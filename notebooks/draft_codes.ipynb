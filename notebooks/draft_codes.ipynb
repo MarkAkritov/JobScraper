{
 "cells": [
  {
   "cell_type": "code",
   "execution_count": 1,
   "metadata": {},
   "outputs": [],
   "source": [
    "import os, sys\n",
    "sys.path.append(os.path.abspath(\"..\"))\n",
    "\n",
    "import requests\n",
    "import scrapy\n",
    "import time\n",
    "import pandas as pd\n",
    "from pprint import pprint\n",
    "import re\n",
    "import json\n",
    "import datetime\n",
    "\n",
    "from scrapers import staff"
   ]
  },
  {
   "cell_type": "code",
   "execution_count": 2,
   "metadata": {},
   "outputs": [
    {
     "name": "stdout",
     "output_type": "stream",
     "text": [
      "Sat Dec 25 20:52:34 2021\n",
      "Starting crawling 'https://staff.am'.\n",
      "1221 jobs detected.\n",
      "Starting crawling job postings..\n"
     ]
    },
    {
     "name": "stderr",
     "output_type": "stream",
     "text": [
      "URL https://staff.am/en/onlayn-xagavar-29: 100%|██████████| 1221/1221 [41:51<00:00,  2.06s/it]                                                                                         \n"
     ]
    },
    {
     "name": "stdout",
     "output_type": "stream",
     "text": [
      "1221/1221 jobs scraped.\n",
      "Saving files.\n",
      "Company_Title: 1221\n",
      "Company_URL: 1221\n",
      "URL: 1221\n",
      "Total_views: 1221\n",
      "Followers: 1221\n",
      "Active_Jobs: 1221\n",
      "Jobs_History: 1221\n",
      "Job_Views: 1221\n",
      "Job_Title: 1221\n",
      "Application_Deadline: 1221\n",
      "Other: 1221\n",
      "Industry: 1221\n",
      "Employment_term: 1221\n",
      "Job_Category: 1221\n",
      "Job_type: 1221\n",
      "Job_Location: 1221\n",
      "Text: 1221\n",
      "Job_description: 1221\n",
      "Job_responsibilities: 1221\n",
      "Required_qualifications: 1221\n",
      "Required_candidate_level: 1221\n",
      "Salary: 1221\n",
      "Additional_information: 1221\n",
      "Professional_skills: 1221\n",
      "Soft_skills: 1221\n",
      "Detected 4 new companies.\n",
      "Starting crawling companies.\n"
     ]
    },
    {
     "name": "stderr",
     "output_type": "stream",
     "text": [
      "100%|██████████| 4/4 [00:02<00:00,  1.42it/s]"
     ]
    },
    {
     "name": "stdout",
     "output_type": "stream",
     "text": [
      "Extracted 4/4\n",
      "Sat Dec 25 21:34:53 2021\n",
      "Ended crawling 'https://staff.am'.\n"
     ]
    },
    {
     "name": "stderr",
     "output_type": "stream",
     "text": [
      "\n"
     ]
    }
   ],
   "source": [
    "data = staff.main()"
   ]
  },
  {
   "cell_type": "code",
   "execution_count": null,
   "metadata": {},
   "outputs": [],
   "source": [
    "with open(\"../data/postings/staff_08.10.21.json\", \"r\") as f:\n",
    "    dat = json.load(f)\n",
    "\n",
    "len(dat[\"URL\"])\n"
   ]
  },
  {
   "cell_type": "code",
   "execution_count": null,
   "metadata": {},
   "outputs": [],
   "source": [
    "len(data.keys())"
   ]
  },
  {
   "cell_type": "code",
   "execution_count": null,
   "metadata": {},
   "outputs": [],
   "source": [
    "all_default_keys = (\n",
    "    \"Company_Title\", \"Company_URL\", \"URL\", \"Total_views\", \"Followers\",\n",
    "    \"Active_Jobs\", \"Jobs_History\", \"Job_Views\", \"Job_Title\",\n",
    "    \"Application_Deadline\", \"Industry\", \"Employment_term\",\n",
    "    \"Job_Category\", \"Job_type\", \"Job_Location\",\n",
    "    \"Job_description\", \"Job_responsibilities\",\n",
    "    \"Required_qualifications\", \"Required_candidate_level\",\n",
    "    \"Salary\", \"Additional_information\",\n",
    "    \"Professional_skills\", \"Soft_skills\"\n",
    ")"
   ]
  },
  {
   "cell_type": "code",
   "execution_count": null,
   "metadata": {},
   "outputs": [],
   "source": [
    "new_keys = [k for k in data.keys() if k not in all_default_keys]"
   ]
  },
  {
   "cell_type": "code",
   "execution_count": null,
   "metadata": {},
   "outputs": [],
   "source": [
    "len(new_keys)"
   ]
  },
  {
   "cell_type": "code",
   "execution_count": null,
   "metadata": {},
   "outputs": [],
   "source": [
    "sorted([(k, len(data[k])) for k in new_keys], key=lambda x: x[1])[::-1]"
   ]
  },
  {
   "cell_type": "code",
   "execution_count": null,
   "metadata": {},
   "outputs": [],
   "source": [
    "data[\"Additional_information\"]"
   ]
  },
  {
   "cell_type": "code",
   "execution_count": null,
   "metadata": {},
   "outputs": [],
   "source": [
    "rs = requests.get(\"https://staff.am/en/senior-uiux-designer-112\")\n",
    "response = scrapy.http.HtmlResponse(url=rs.url, body=rs.text, encoding=\"utf-8\")"
   ]
  },
  {
   "cell_type": "code",
   "execution_count": null,
   "metadata": {},
   "outputs": [],
   "source": [
    "staff.get_info_from_one_posting(\"https://staff.am/en/senior-uiux-designer-112\")"
   ]
  },
  {
   "cell_type": "code",
   "execution_count": null,
   "metadata": {},
   "outputs": [],
   "source": [
    "scrape = staff.crawl_all_postings([\"https://staff.am/en/senior-engineer-ii-c\", \"https://staff.am/en/senior-uiux-designer-112\"])"
   ]
  },
  {
   "cell_type": "code",
   "execution_count": null,
   "metadata": {},
   "outputs": [],
   "source": [
    "arr = [f\"{i}th val\" for i in range(100)]"
   ]
  },
  {
   "cell_type": "code",
   "execution_count": null,
   "metadata": {},
   "outputs": [],
   "source": [
    "import time\n",
    "from rich.progress import track\n",
    "from rich import progress_bar"
   ]
  },
  {
   "cell_type": "code",
   "execution_count": null,
   "metadata": {},
   "outputs": [],
   "source": [
    "for i in track(arr):\n",
    "    time.sleep(0.1)"
   ]
  },
  {
   "cell_type": "code",
   "execution_count": null,
   "metadata": {},
   "outputs": [],
   "source": []
  }
 ],
 "metadata": {
  "interpreter": {
   "hash": "0bbe0dbd4e72c424315205fe893a83494808b6dd78a85ed1283fc80c4d8e7c93"
  },
  "kernelspec": {
   "display_name": "Python 3.9.5 64-bit ('JobScraper-NyAeU1wv': pipenv)",
   "name": "python3"
  },
  "language_info": {
   "codemirror_mode": {
    "name": "ipython",
    "version": 3
   },
   "file_extension": ".py",
   "mimetype": "text/x-python",
   "name": "python",
   "nbconvert_exporter": "python",
   "pygments_lexer": "ipython3",
   "version": "3.9.5"
  }
 },
 "nbformat": 4,
 "nbformat_minor": 2
}
