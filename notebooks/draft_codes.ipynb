{
 "cells": [
  {
   "cell_type": "code",
   "execution_count": 1,
   "source": [
    "import os, sys\r\n",
    "sys.path.append(os.path.abspath(\"..\"))\r\n",
    "\r\n",
    "# import requests\r\n",
    "# import scrapy\r\n",
    "# import time\r\n",
    "# import pandas as pd\r\n",
    "# from pprint import pprint\r\n",
    "# import re\r\n",
    "# import json\r\n",
    "# import datetime\r\n",
    "\r\n",
    "from scrapers import staff"
   ],
   "outputs": [],
   "metadata": {}
  },
  {
   "cell_type": "code",
   "execution_count": 2,
   "source": [
    "data = staff.main()"
   ],
   "outputs": [
    {
     "output_type": "stream",
     "name": "stdout",
     "text": [
      "Mon Sep 20 19:33:55 2021\n",
      "Starting crawling 'https://staff.am'.\n",
      "1412 jobs detected.\n",
      "Starting crawling job postings..\n"
     ]
    },
    {
     "output_type": "stream",
     "name": "stderr",
     "text": [
      "  0%|          | 3/1412 [00:05<45:39,  1.94s/it]"
     ]
    },
    {
     "output_type": "stream",
     "name": "stdout",
     "text": [
      "\n",
      "            New 'h3' fields in job description list are present:\n",
      "            \tCheck the output.\n",
      "            \n"
     ]
    },
    {
     "output_type": "stream",
     "name": "stderr",
     "text": [
      "  0%|          | 4/1412 [00:07<45:07,  1.92s/it]"
     ]
    },
    {
     "output_type": "stream",
     "name": "stdout",
     "text": [
      "\n",
      "            New 'h3' fields in job description list are present:\n",
      "            \tCheck the output.\n",
      "            \n"
     ]
    },
    {
     "output_type": "stream",
     "name": "stderr",
     "text": [
      "  1%|          | 15/1412 [00:29<44:54,  1.93s/it]"
     ]
    },
    {
     "output_type": "stream",
     "name": "stdout",
     "text": [
      "\n",
      "            New 'h3' fields in job description list are present:\n",
      "            \tCheck the output.\n",
      "            \n"
     ]
    },
    {
     "output_type": "stream",
     "name": "stderr",
     "text": [
      "  1%|          | 17/1412 [00:33<45:39,  1.96s/it]"
     ]
    },
    {
     "output_type": "stream",
     "name": "stdout",
     "text": [
      "\n",
      "            New 'h3' fields in job description list are present:\n",
      "            \tCheck the output.\n",
      "            \n"
     ]
    },
    {
     "output_type": "stream",
     "name": "stderr",
     "text": [
      "  3%|▎         | 41/1412 [01:19<43:18,  1.90s/it]"
     ]
    },
    {
     "output_type": "stream",
     "name": "stdout",
     "text": [
      "\n",
      "            New 'h3' fields in job description list are present:\n",
      "            \tCheck the output.\n",
      "            \n"
     ]
    },
    {
     "output_type": "stream",
     "name": "stderr",
     "text": [
      "  4%|▍         | 60/1412 [01:55<43:01,  1.91s/it]"
     ]
    },
    {
     "output_type": "stream",
     "name": "stdout",
     "text": [
      "\n",
      "            New 'h3' fields in job description list are present:\n",
      "            \tCheck the output.\n",
      "            \n"
     ]
    },
    {
     "output_type": "stream",
     "name": "stderr",
     "text": [
      "  8%|▊         | 112/1412 [03:36<41:16,  1.91s/it]"
     ]
    },
    {
     "output_type": "stream",
     "name": "stdout",
     "text": [
      "\n",
      "            New 'h3' fields in job description list are present:\n",
      "            \tCheck the output.\n",
      "            \n"
     ]
    },
    {
     "output_type": "stream",
     "name": "stderr",
     "text": [
      " 10%|▉         | 138/1412 [04:26<40:54,  1.93s/it]"
     ]
    },
    {
     "output_type": "stream",
     "name": "stdout",
     "text": [
      "\n",
      "            New 'h3' fields in job description list are present:\n",
      "            \tCheck the output.\n",
      "            \n"
     ]
    },
    {
     "output_type": "stream",
     "name": "stderr",
     "text": [
      " 10%|▉         | 141/1412 [04:32<40:12,  1.90s/it]"
     ]
    },
    {
     "output_type": "stream",
     "name": "stdout",
     "text": [
      "\n",
      "            New 'h3' fields in job description list are present:\n",
      "            \tCheck the output.\n",
      "            \n"
     ]
    },
    {
     "output_type": "stream",
     "name": "stderr",
     "text": [
      " 10%|█         | 144/1412 [04:37<40:26,  1.91s/it]"
     ]
    },
    {
     "output_type": "stream",
     "name": "stdout",
     "text": [
      "\n",
      "            New 'h3' fields in job description list are present:\n",
      "            \tCheck the output.\n",
      "            \n"
     ]
    },
    {
     "output_type": "stream",
     "name": "stderr",
     "text": [
      " 10%|█         | 145/1412 [04:39<40:31,  1.92s/it]"
     ]
    },
    {
     "output_type": "stream",
     "name": "stdout",
     "text": [
      "\n",
      "            New 'h3' fields in job description list are present:\n",
      "            \tCheck the output.\n",
      "            \n"
     ]
    },
    {
     "output_type": "stream",
     "name": "stderr",
     "text": [
      " 10%|█         | 146/1412 [04:41<41:31,  1.97s/it]"
     ]
    },
    {
     "output_type": "stream",
     "name": "stdout",
     "text": [
      "\n",
      "            New 'h3' fields in job description list are present:\n",
      "            \tCheck the output.\n",
      "            \n"
     ]
    },
    {
     "output_type": "stream",
     "name": "stderr",
     "text": [
      " 11%|█         | 154/1412 [04:57<40:17,  1.92s/it]"
     ]
    },
    {
     "output_type": "stream",
     "name": "stdout",
     "text": [
      "\n",
      "            New 'h3' fields in job description list are present:\n",
      "            \tCheck the output.\n",
      "            \n"
     ]
    },
    {
     "output_type": "stream",
     "name": "stderr",
     "text": [
      " 11%|█▏        | 159/1412 [05:07<40:54,  1.96s/it]"
     ]
    },
    {
     "output_type": "stream",
     "name": "stdout",
     "text": [
      "\n",
      "            New 'h3' fields in job description list are present:\n",
      "            \tCheck the output.\n",
      "            \n"
     ]
    },
    {
     "output_type": "stream",
     "name": "stderr",
     "text": [
      " 11%|█▏        | 160/1412 [05:09<40:37,  1.95s/it]"
     ]
    },
    {
     "output_type": "stream",
     "name": "stdout",
     "text": [
      "\n",
      "            New 'h3' fields in job description list are present:\n",
      "            \tCheck the output.\n",
      "            \n"
     ]
    },
    {
     "output_type": "stream",
     "name": "stderr",
     "text": [
      " 13%|█▎        | 185/1412 [05:58<40:15,  1.97s/it]"
     ]
    },
    {
     "output_type": "stream",
     "name": "stdout",
     "text": [
      "\n",
      "            New 'h3' fields in job description list are present:\n",
      "            \tCheck the output.\n",
      "            \n"
     ]
    },
    {
     "output_type": "stream",
     "name": "stderr",
     "text": [
      " 13%|█▎        | 189/1412 [06:06<40:00,  1.96s/it]"
     ]
    },
    {
     "output_type": "stream",
     "name": "stdout",
     "text": [
      "\n",
      "            New 'h3' fields in job description list are present:\n",
      "            \tCheck the output.\n",
      "            \n"
     ]
    },
    {
     "output_type": "stream",
     "name": "stderr",
     "text": [
      " 14%|█▎        | 191/1412 [06:10<40:24,  1.99s/it]"
     ]
    },
    {
     "output_type": "stream",
     "name": "stdout",
     "text": [
      "\n",
      "            New 'h3' fields in job description list are present:\n",
      "            \tCheck the output.\n",
      "            \n"
     ]
    },
    {
     "output_type": "stream",
     "name": "stderr",
     "text": [
      " 15%|█▍        | 209/1412 [06:45<39:35,  1.97s/it]"
     ]
    },
    {
     "output_type": "stream",
     "name": "stdout",
     "text": [
      "\n",
      "            New 'h3' fields in job description list are present:\n",
      "            \tCheck the output.\n",
      "            \n"
     ]
    },
    {
     "output_type": "stream",
     "name": "stderr",
     "text": [
      " 16%|█▋        | 230/1412 [07:26<40:18,  2.05s/it]"
     ]
    },
    {
     "output_type": "stream",
     "name": "stdout",
     "text": [
      "\n",
      "            New 'h3' fields in job description list are present:\n",
      "            \tCheck the output.\n",
      "            \n"
     ]
    },
    {
     "output_type": "stream",
     "name": "stderr",
     "text": [
      " 19%|█▉        | 273/1412 [08:51<39:15,  2.07s/it]"
     ]
    },
    {
     "output_type": "stream",
     "name": "stdout",
     "text": [
      "\n",
      "            New 'h3' fields in job description list are present:\n",
      "            \tCheck the output.\n",
      "            \n"
     ]
    },
    {
     "output_type": "stream",
     "name": "stderr",
     "text": [
      " 20%|█▉        | 276/1412 [08:57<38:15,  2.02s/it]"
     ]
    },
    {
     "output_type": "stream",
     "name": "stdout",
     "text": [
      "\n",
      "            New 'h3' fields in job description list are present:\n",
      "            \tCheck the output.\n",
      "            \n"
     ]
    },
    {
     "output_type": "stream",
     "name": "stderr",
     "text": [
      " 20%|█▉        | 277/1412 [08:59<38:02,  2.01s/it]"
     ]
    },
    {
     "output_type": "stream",
     "name": "stdout",
     "text": [
      "\n",
      "            New 'h3' fields in job description list are present:\n",
      "            \tCheck the output.\n",
      "            \n"
     ]
    },
    {
     "output_type": "stream",
     "name": "stderr",
     "text": [
      " 20%|██        | 284/1412 [09:13<39:51,  2.12s/it]"
     ]
    },
    {
     "output_type": "stream",
     "name": "stdout",
     "text": [
      "\n",
      "            New 'h3' fields in job description list are present:\n",
      "            \tCheck the output.\n",
      "            \n"
     ]
    },
    {
     "output_type": "stream",
     "name": "stderr",
     "text": [
      " 20%|██        | 285/1412 [09:15<38:50,  2.07s/it]"
     ]
    },
    {
     "output_type": "stream",
     "name": "stdout",
     "text": [
      "\n",
      "            New 'h3' fields in job description list are present:\n",
      "            \tCheck the output.\n",
      "            \n"
     ]
    },
    {
     "output_type": "stream",
     "name": "stderr",
     "text": [
      " 20%|██        | 288/1412 [09:21<36:36,  1.95s/it]"
     ]
    },
    {
     "output_type": "stream",
     "name": "stdout",
     "text": [
      "\n",
      "            New 'h3' fields in job description list are present:\n",
      "            \tCheck the output.\n",
      "            \n"
     ]
    },
    {
     "output_type": "stream",
     "name": "stderr",
     "text": [
      " 21%|██        | 296/1412 [09:36<35:36,  1.91s/it]"
     ]
    },
    {
     "output_type": "stream",
     "name": "stdout",
     "text": [
      "\n",
      "            New 'h3' fields in job description list are present:\n",
      "            \tCheck the output.\n",
      "            \n"
     ]
    },
    {
     "output_type": "stream",
     "name": "stderr",
     "text": [
      " 22%|██▏       | 310/1412 [10:04<36:55,  2.01s/it]"
     ]
    },
    {
     "output_type": "stream",
     "name": "stdout",
     "text": [
      "\n",
      "            New 'h3' fields in job description list are present:\n",
      "            \tCheck the output.\n",
      "            \n"
     ]
    },
    {
     "output_type": "stream",
     "name": "stderr",
     "text": [
      " 25%|██▍       | 351/1412 [11:23<33:46,  1.91s/it]"
     ]
    },
    {
     "output_type": "stream",
     "name": "stdout",
     "text": [
      "\n",
      "            New 'h3' fields in job description list are present:\n",
      "            \tCheck the output.\n",
      "            \n"
     ]
    },
    {
     "output_type": "stream",
     "name": "stderr",
     "text": [
      " 25%|██▌       | 357/1412 [11:34<33:59,  1.93s/it]"
     ]
    },
    {
     "output_type": "stream",
     "name": "stdout",
     "text": [
      "\n",
      "            New 'h3' fields in job description list are present:\n",
      "            \tCheck the output.\n",
      "            \n"
     ]
    },
    {
     "output_type": "stream",
     "name": "stderr",
     "text": [
      " 26%|██▌       | 366/1412 [11:52<33:51,  1.94s/it]"
     ]
    },
    {
     "output_type": "stream",
     "name": "stdout",
     "text": [
      "\n",
      "            New 'h3' fields in job description list are present:\n",
      "            \tCheck the output.\n",
      "            \n"
     ]
    },
    {
     "output_type": "stream",
     "name": "stderr",
     "text": [
      " 26%|██▌       | 367/1412 [11:54<34:00,  1.95s/it]"
     ]
    },
    {
     "output_type": "stream",
     "name": "stdout",
     "text": [
      "\n",
      "            New 'h3' fields in job description list are present:\n",
      "            \tCheck the output.\n",
      "            \n"
     ]
    },
    {
     "output_type": "stream",
     "name": "stderr",
     "text": [
      " 29%|██▉       | 409/1412 [13:16<31:54,  1.91s/it]"
     ]
    },
    {
     "output_type": "stream",
     "name": "stdout",
     "text": [
      "\n",
      "            New 'h3' fields in job description list are present:\n",
      "            \tCheck the output.\n",
      "            \n"
     ]
    },
    {
     "output_type": "stream",
     "name": "stderr",
     "text": [
      " 30%|███       | 424/1412 [13:46<34:22,  2.09s/it]"
     ]
    },
    {
     "output_type": "stream",
     "name": "stdout",
     "text": [
      "\n",
      "            New 'h3' fields in job description list are present:\n",
      "            \tCheck the output.\n",
      "            \n"
     ]
    },
    {
     "output_type": "stream",
     "name": "stderr",
     "text": [
      " 30%|███       | 427/1412 [13:52<32:29,  1.98s/it]"
     ]
    },
    {
     "output_type": "stream",
     "name": "stdout",
     "text": [
      "\n",
      "            New 'h3' fields in job description list are present:\n",
      "            \tCheck the output.\n",
      "            \n"
     ]
    },
    {
     "output_type": "stream",
     "name": "stderr",
     "text": [
      " 33%|███▎      | 460/1412 [14:57<31:31,  1.99s/it]"
     ]
    },
    {
     "output_type": "stream",
     "name": "stdout",
     "text": [
      "\n",
      "            New 'h3' fields in job description list are present:\n",
      "            \tCheck the output.\n",
      "            \n"
     ]
    },
    {
     "output_type": "stream",
     "name": "stderr",
     "text": [
      " 33%|███▎      | 462/1412 [15:01<32:20,  2.04s/it]"
     ]
    },
    {
     "output_type": "stream",
     "name": "stdout",
     "text": [
      "\n",
      "            New 'h3' fields in job description list are present:\n",
      "            \tCheck the output.\n",
      "            \n"
     ]
    },
    {
     "output_type": "stream",
     "name": "stderr",
     "text": [
      " 33%|███▎      | 470/1412 [15:17<30:30,  1.94s/it]"
     ]
    },
    {
     "output_type": "stream",
     "name": "stdout",
     "text": [
      "\n",
      "            New 'h3' fields in job description list are present:\n",
      "            \tCheck the output.\n",
      "            \n"
     ]
    },
    {
     "output_type": "stream",
     "name": "stderr",
     "text": [
      " 33%|███▎      | 473/1412 [15:24<33:10,  2.12s/it]"
     ]
    },
    {
     "output_type": "stream",
     "name": "stdout",
     "text": [
      "\n",
      "            New 'h3' fields in job description list are present:\n",
      "            \tCheck the output.\n",
      "            \n"
     ]
    },
    {
     "output_type": "stream",
     "name": "stderr",
     "text": [
      " 34%|███▍      | 480/1412 [15:37<30:50,  1.99s/it]"
     ]
    },
    {
     "output_type": "stream",
     "name": "stdout",
     "text": [
      "\n",
      "            New 'h3' fields in job description list are present:\n",
      "            \tCheck the output.\n",
      "            \n"
     ]
    },
    {
     "output_type": "stream",
     "name": "stderr",
     "text": [
      " 37%|███▋      | 524/1412 [17:04<28:29,  1.93s/it]"
     ]
    },
    {
     "output_type": "stream",
     "name": "stdout",
     "text": [
      "\n",
      "            New 'h3' fields in job description list are present:\n",
      "            \tCheck the output.\n",
      "            \n"
     ]
    },
    {
     "output_type": "stream",
     "name": "stderr",
     "text": [
      " 37%|███▋      | 526/1412 [17:08<29:05,  1.97s/it]"
     ]
    },
    {
     "output_type": "stream",
     "name": "stdout",
     "text": [
      "\n",
      "            New 'h3' fields in job description list are present:\n",
      "            \tCheck the output.\n",
      "            \n"
     ]
    },
    {
     "output_type": "stream",
     "name": "stderr",
     "text": [
      " 37%|███▋      | 529/1412 [17:15<30:31,  2.07s/it]"
     ]
    },
    {
     "output_type": "stream",
     "name": "stdout",
     "text": [
      "\n",
      "            New 'h3' fields in job description list are present:\n",
      "            \tCheck the output.\n",
      "            \n"
     ]
    },
    {
     "output_type": "stream",
     "name": "stderr",
     "text": [
      " 38%|███▊      | 534/1412 [17:25<29:04,  1.99s/it]"
     ]
    },
    {
     "output_type": "stream",
     "name": "stdout",
     "text": [
      "\n",
      "            New 'h3' fields in job description list are present:\n",
      "            \tCheck the output.\n",
      "            \n"
     ]
    },
    {
     "output_type": "stream",
     "name": "stderr",
     "text": [
      " 38%|███▊      | 535/1412 [17:27<29:40,  2.03s/it]"
     ]
    },
    {
     "output_type": "stream",
     "name": "stdout",
     "text": [
      "\n",
      "            New 'h3' fields in job description list are present:\n",
      "            \tCheck the output.\n",
      "            \n"
     ]
    },
    {
     "output_type": "stream",
     "name": "stderr",
     "text": [
      " 38%|███▊      | 536/1412 [17:29<29:13,  2.00s/it]"
     ]
    },
    {
     "output_type": "stream",
     "name": "stdout",
     "text": [
      "\n",
      "            New 'h3' fields in job description list are present:\n",
      "            \tCheck the output.\n",
      "            \n"
     ]
    },
    {
     "output_type": "stream",
     "name": "stderr",
     "text": [
      " 38%|███▊      | 537/1412 [17:31<29:39,  2.03s/it]"
     ]
    },
    {
     "output_type": "stream",
     "name": "stdout",
     "text": [
      "\n",
      "            New 'h3' fields in job description list are present:\n",
      "            \tCheck the output.\n",
      "            \n"
     ]
    },
    {
     "output_type": "stream",
     "name": "stderr",
     "text": [
      " 39%|███▉      | 550/1412 [17:57<28:58,  2.02s/it]"
     ]
    },
    {
     "output_type": "stream",
     "name": "stdout",
     "text": [
      "\n",
      "            New 'h3' fields in job description list are present:\n",
      "            \tCheck the output.\n",
      "            \n"
     ]
    },
    {
     "output_type": "stream",
     "name": "stderr",
     "text": [
      " 39%|███▉      | 553/1412 [18:02<28:16,  1.97s/it]"
     ]
    },
    {
     "output_type": "stream",
     "name": "stdout",
     "text": [
      "\n",
      "            New 'h3' fields in job description list are present:\n",
      "            \tCheck the output.\n",
      "            \n"
     ]
    },
    {
     "output_type": "stream",
     "name": "stderr",
     "text": [
      " 39%|███▉      | 554/1412 [18:04<28:01,  1.96s/it]"
     ]
    },
    {
     "output_type": "stream",
     "name": "stdout",
     "text": [
      "\n",
      "            New 'h3' fields in job description list are present:\n",
      "            \tCheck the output.\n",
      "            \n"
     ]
    },
    {
     "output_type": "stream",
     "name": "stderr",
     "text": [
      " 39%|███▉      | 555/1412 [18:06<27:55,  1.95s/it]"
     ]
    },
    {
     "output_type": "stream",
     "name": "stdout",
     "text": [
      "\n",
      "            New 'h3' fields in job description list are present:\n",
      "            \tCheck the output.\n",
      "            \n"
     ]
    },
    {
     "output_type": "stream",
     "name": "stderr",
     "text": [
      " 39%|███▉      | 557/1412 [18:10<28:51,  2.02s/it]"
     ]
    },
    {
     "output_type": "stream",
     "name": "stdout",
     "text": [
      "\n",
      "            New 'h3' fields in job description list are present:\n",
      "            \tCheck the output.\n",
      "            \n"
     ]
    },
    {
     "output_type": "stream",
     "name": "stderr",
     "text": [
      " 40%|███▉      | 561/1412 [18:18<28:21,  2.00s/it]"
     ]
    },
    {
     "output_type": "stream",
     "name": "stdout",
     "text": [
      "\n",
      "            New 'h3' fields in job description list are present:\n",
      "            \tCheck the output.\n",
      "            \n"
     ]
    },
    {
     "output_type": "stream",
     "name": "stderr",
     "text": [
      " 41%|████      | 573/1412 [18:41<27:00,  1.93s/it]"
     ]
    },
    {
     "output_type": "stream",
     "name": "stdout",
     "text": [
      "\n",
      "            New 'h3' fields in job description list are present:\n",
      "            \tCheck the output.\n",
      "            \n"
     ]
    },
    {
     "output_type": "stream",
     "name": "stderr",
     "text": [
      " 41%|████▏     | 584/1412 [19:03<26:04,  1.89s/it]"
     ]
    },
    {
     "output_type": "stream",
     "name": "stdout",
     "text": [
      "\n",
      "            New 'h3' fields in job description list are present:\n",
      "            \tCheck the output.\n",
      "            \n"
     ]
    },
    {
     "output_type": "stream",
     "name": "stderr",
     "text": [
      " 41%|████▏     | 585/1412 [19:05<26:17,  1.91s/it]"
     ]
    },
    {
     "output_type": "stream",
     "name": "stdout",
     "text": [
      "\n",
      "            New 'h3' fields in job description list are present:\n",
      "            \tCheck the output.\n",
      "            \n"
     ]
    },
    {
     "output_type": "stream",
     "name": "stderr",
     "text": [
      " 44%|████▍     | 624/1412 [20:20<25:21,  1.93s/it]"
     ]
    },
    {
     "output_type": "stream",
     "name": "stdout",
     "text": [
      "\n",
      "            New 'h3' fields in job description list are present:\n",
      "            \tCheck the output.\n",
      "            \n"
     ]
    },
    {
     "output_type": "stream",
     "name": "stderr",
     "text": [
      " 45%|████▌     | 642/1412 [20:56<24:56,  1.94s/it]"
     ]
    },
    {
     "output_type": "stream",
     "name": "stdout",
     "text": [
      "\n",
      "            New 'h3' fields in job description list are present:\n",
      "            \tCheck the output.\n",
      "            \n"
     ]
    },
    {
     "output_type": "stream",
     "name": "stderr",
     "text": [
      " 46%|████▌     | 644/1412 [20:59<24:51,  1.94s/it]"
     ]
    },
    {
     "output_type": "stream",
     "name": "stdout",
     "text": [
      "\n",
      "            New 'h3' fields in job description list are present:\n",
      "            \tCheck the output.\n",
      "            \n"
     ]
    },
    {
     "output_type": "stream",
     "name": "stderr",
     "text": [
      " 46%|████▌     | 647/1412 [21:06<25:41,  2.02s/it]"
     ]
    },
    {
     "output_type": "stream",
     "name": "stdout",
     "text": [
      "\n",
      "            New 'h3' fields in job description list are present:\n",
      "            \tCheck the output.\n",
      "            \n"
     ]
    },
    {
     "output_type": "stream",
     "name": "stderr",
     "text": [
      " 47%|████▋     | 666/1412 [21:43<24:52,  2.00s/it]"
     ]
    },
    {
     "output_type": "stream",
     "name": "stdout",
     "text": [
      "\n",
      "            New 'h3' fields in job description list are present:\n",
      "            \tCheck the output.\n",
      "            \n"
     ]
    },
    {
     "output_type": "stream",
     "name": "stderr",
     "text": [
      " 48%|████▊     | 684/1412 [22:19<24:08,  1.99s/it]"
     ]
    },
    {
     "output_type": "stream",
     "name": "stdout",
     "text": [
      "\n",
      "            New 'h3' fields in job description list are present:\n",
      "            \tCheck the output.\n",
      "            \n"
     ]
    },
    {
     "output_type": "stream",
     "name": "stderr",
     "text": [
      " 49%|████▊     | 688/1412 [22:28<24:54,  2.06s/it]"
     ]
    },
    {
     "output_type": "stream",
     "name": "stdout",
     "text": [
      "\n",
      "            New 'h3' fields in job description list are present:\n",
      "            \tCheck the output.\n",
      "            \n"
     ]
    },
    {
     "output_type": "stream",
     "name": "stderr",
     "text": [
      " 49%|████▉     | 696/1412 [22:43<23:22,  1.96s/it]"
     ]
    },
    {
     "output_type": "stream",
     "name": "stdout",
     "text": [
      "\n",
      "            New 'h3' fields in job description list are present:\n",
      "            \tCheck the output.\n",
      "            \n"
     ]
    },
    {
     "output_type": "stream",
     "name": "stderr",
     "text": [
      " 49%|████▉     | 698/1412 [22:47<23:00,  1.93s/it]"
     ]
    },
    {
     "output_type": "stream",
     "name": "stdout",
     "text": [
      "\n",
      "            New 'h3' fields in job description list are present:\n",
      "            \tCheck the output.\n",
      "            \n"
     ]
    },
    {
     "output_type": "stream",
     "name": "stderr",
     "text": [
      " 50%|█████     | 706/1412 [23:03<22:35,  1.92s/it]"
     ]
    },
    {
     "output_type": "stream",
     "name": "stdout",
     "text": [
      "\n",
      "            New 'h3' fields in job description list are present:\n",
      "            \tCheck the output.\n",
      "            \n"
     ]
    },
    {
     "output_type": "stream",
     "name": "stderr",
     "text": [
      " 53%|█████▎    | 745/1412 [24:21<22:32,  2.03s/it]"
     ]
    },
    {
     "output_type": "stream",
     "name": "stdout",
     "text": [
      "\n",
      "            New 'h3' fields in job description list are present:\n",
      "            \tCheck the output.\n",
      "            \n"
     ]
    },
    {
     "output_type": "stream",
     "name": "stderr",
     "text": [
      " 54%|█████▍    | 765/1412 [25:00<21:18,  1.98s/it]"
     ]
    },
    {
     "output_type": "stream",
     "name": "stdout",
     "text": [
      "\n",
      "            New 'h3' fields in job description list are present:\n",
      "            \tCheck the output.\n",
      "            \n"
     ]
    },
    {
     "output_type": "stream",
     "name": "stderr",
     "text": [
      " 55%|█████▍    | 773/1412 [25:17<20:58,  1.97s/it]"
     ]
    },
    {
     "output_type": "stream",
     "name": "stdout",
     "text": [
      "\n",
      "            New 'h3' fields in job description list are present:\n",
      "            \tCheck the output.\n",
      "            \n"
     ]
    },
    {
     "output_type": "stream",
     "name": "stderr",
     "text": [
      " 55%|█████▌    | 778/1412 [25:27<20:57,  1.98s/it]"
     ]
    },
    {
     "output_type": "stream",
     "name": "stdout",
     "text": [
      "\n",
      "            New 'h3' fields in job description list are present:\n",
      "            \tCheck the output.\n",
      "            \n"
     ]
    },
    {
     "output_type": "stream",
     "name": "stderr",
     "text": [
      " 57%|█████▋    | 810/1412 [26:32<21:22,  2.13s/it]"
     ]
    },
    {
     "output_type": "stream",
     "name": "stdout",
     "text": [
      "\n",
      "            New 'h3' fields in job description list are present:\n",
      "            \tCheck the output.\n",
      "            \n"
     ]
    },
    {
     "output_type": "stream",
     "name": "stderr",
     "text": [
      " 57%|█████▋    | 811/1412 [26:34<21:17,  2.13s/it]"
     ]
    },
    {
     "output_type": "stream",
     "name": "stdout",
     "text": [
      "\n",
      "            New 'h3' fields in job description list are present:\n",
      "            \tCheck the output.\n",
      "            \n"
     ]
    },
    {
     "output_type": "stream",
     "name": "stderr",
     "text": [
      " 58%|█████▊    | 812/1412 [26:36<20:45,  2.08s/it]"
     ]
    },
    {
     "output_type": "stream",
     "name": "stdout",
     "text": [
      "\n",
      "            New 'h3' fields in job description list are present:\n",
      "            \tCheck the output.\n",
      "            \n"
     ]
    },
    {
     "output_type": "stream",
     "name": "stderr",
     "text": [
      " 58%|█████▊    | 825/1412 [27:02<20:25,  2.09s/it]"
     ]
    },
    {
     "output_type": "stream",
     "name": "stdout",
     "text": [
      "\n",
      "            New 'h3' fields in job description list are present:\n",
      "            \tCheck the output.\n",
      "            \n"
     ]
    },
    {
     "output_type": "stream",
     "name": "stderr",
     "text": [
      " 63%|██████▎   | 889/1412 [29:10<17:28,  2.01s/it]"
     ]
    },
    {
     "output_type": "stream",
     "name": "stdout",
     "text": [
      "\n",
      "            New 'h3' fields in job description list are present:\n",
      "            \tCheck the output.\n",
      "            \n"
     ]
    },
    {
     "output_type": "stream",
     "name": "stderr",
     "text": [
      " 66%|██████▌   | 926/1412 [30:23<15:55,  1.97s/it]"
     ]
    },
    {
     "output_type": "stream",
     "name": "stdout",
     "text": [
      "\n",
      "            New 'h3' fields in job description list are present:\n",
      "            \tCheck the output.\n",
      "            \n"
     ]
    },
    {
     "output_type": "stream",
     "name": "stderr",
     "text": [
      " 66%|██████▌   | 928/1412 [30:27<15:39,  1.94s/it]"
     ]
    },
    {
     "output_type": "stream",
     "name": "stdout",
     "text": [
      "\n",
      "            New 'h3' fields in job description list are present:\n",
      "            \tCheck the output.\n",
      "            \n"
     ]
    },
    {
     "output_type": "stream",
     "name": "stderr",
     "text": [
      " 66%|██████▌   | 929/1412 [30:29<15:37,  1.94s/it]"
     ]
    },
    {
     "output_type": "stream",
     "name": "stdout",
     "text": [
      "\n",
      "            New 'h3' fields in job description list are present:\n",
      "            \tCheck the output.\n",
      "            \n"
     ]
    },
    {
     "output_type": "stream",
     "name": "stderr",
     "text": [
      " 66%|██████▌   | 930/1412 [30:31<15:42,  1.95s/it]"
     ]
    },
    {
     "output_type": "stream",
     "name": "stdout",
     "text": [
      "\n",
      "            New 'h3' fields in job description list are present:\n",
      "            \tCheck the output.\n",
      "            \n"
     ]
    },
    {
     "output_type": "stream",
     "name": "stderr",
     "text": [
      " 67%|██████▋   | 945/1412 [31:01<15:57,  2.05s/it]"
     ]
    },
    {
     "output_type": "stream",
     "name": "stdout",
     "text": [
      "\n",
      "            New 'h3' fields in job description list are present:\n",
      "            \tCheck the output.\n",
      "            \n"
     ]
    },
    {
     "output_type": "stream",
     "name": "stderr",
     "text": [
      " 68%|██████▊   | 962/1412 [31:35<14:45,  1.97s/it]"
     ]
    },
    {
     "output_type": "stream",
     "name": "stdout",
     "text": [
      "\n",
      "            New 'h3' fields in job description list are present:\n",
      "            \tCheck the output.\n",
      "            \n"
     ]
    },
    {
     "output_type": "stream",
     "name": "stderr",
     "text": [
      " 68%|██████▊   | 963/1412 [31:37<14:47,  1.98s/it]"
     ]
    },
    {
     "output_type": "stream",
     "name": "stdout",
     "text": [
      "\n",
      "            New 'h3' fields in job description list are present:\n",
      "            \tCheck the output.\n",
      "            \n"
     ]
    },
    {
     "output_type": "stream",
     "name": "stderr",
     "text": [
      " 68%|██████▊   | 966/1412 [31:43<14:46,  1.99s/it]"
     ]
    },
    {
     "output_type": "stream",
     "name": "stdout",
     "text": [
      "\n",
      "            New 'h3' fields in job description list are present:\n",
      "            \tCheck the output.\n",
      "            \n"
     ]
    },
    {
     "output_type": "stream",
     "name": "stderr",
     "text": [
      " 69%|██████▊   | 968/1412 [31:47<14:47,  2.00s/it]"
     ]
    },
    {
     "output_type": "stream",
     "name": "stdout",
     "text": [
      "\n",
      "            New 'h3' fields in job description list are present:\n",
      "            \tCheck the output.\n",
      "            \n"
     ]
    },
    {
     "output_type": "stream",
     "name": "stderr",
     "text": [
      " 69%|██████▊   | 969/1412 [31:49<14:35,  1.98s/it]"
     ]
    },
    {
     "output_type": "stream",
     "name": "stdout",
     "text": [
      "\n",
      "            New 'h3' fields in job description list are present:\n",
      "            \tCheck the output.\n",
      "            \n"
     ]
    },
    {
     "output_type": "stream",
     "name": "stderr",
     "text": [
      " 69%|██████▊   | 970/1412 [31:50<14:27,  1.96s/it]"
     ]
    },
    {
     "output_type": "stream",
     "name": "stdout",
     "text": [
      "\n",
      "            New 'h3' fields in job description list are present:\n",
      "            \tCheck the output.\n",
      "            \n"
     ]
    },
    {
     "output_type": "stream",
     "name": "stderr",
     "text": [
      " 70%|███████   | 994/1412 [32:38<13:32,  1.94s/it]"
     ]
    },
    {
     "output_type": "stream",
     "name": "stdout",
     "text": [
      "\n",
      "            New 'h3' fields in job description list are present:\n",
      "            \tCheck the output.\n",
      "            \n"
     ]
    },
    {
     "output_type": "stream",
     "name": "stderr",
     "text": [
      " 73%|███████▎  | 1033/1412 [33:55<12:40,  2.01s/it]"
     ]
    },
    {
     "output_type": "stream",
     "name": "stdout",
     "text": [
      "\n",
      "            New 'h3' fields in job description list are present:\n",
      "            \tCheck the output.\n",
      "            \n"
     ]
    },
    {
     "output_type": "stream",
     "name": "stderr",
     "text": [
      " 74%|███████▍  | 1042/1412 [34:13<12:09,  1.97s/it]"
     ]
    },
    {
     "output_type": "stream",
     "name": "stdout",
     "text": [
      "\n",
      "            New 'h3' fields in job description list are present:\n",
      "            \tCheck the output.\n",
      "            \n"
     ]
    },
    {
     "output_type": "stream",
     "name": "stderr",
     "text": [
      " 74%|███████▍  | 1044/1412 [34:17<11:58,  1.95s/it]"
     ]
    },
    {
     "output_type": "stream",
     "name": "stdout",
     "text": [
      "\n",
      "            New 'h3' fields in job description list are present:\n",
      "            \tCheck the output.\n",
      "            \n"
     ]
    },
    {
     "output_type": "stream",
     "name": "stderr",
     "text": [
      " 74%|███████▍  | 1049/1412 [34:28<12:51,  2.12s/it]"
     ]
    },
    {
     "output_type": "stream",
     "name": "stdout",
     "text": [
      "\n",
      "            New 'h3' fields in job description list are present:\n",
      "            \tCheck the output.\n",
      "            \n"
     ]
    },
    {
     "output_type": "stream",
     "name": "stderr",
     "text": [
      " 74%|███████▍  | 1051/1412 [34:32<12:21,  2.05s/it]"
     ]
    },
    {
     "output_type": "stream",
     "name": "stdout",
     "text": [
      "\n",
      "            New 'h3' fields in job description list are present:\n",
      "            \tCheck the output.\n",
      "            \n"
     ]
    },
    {
     "output_type": "stream",
     "name": "stderr",
     "text": [
      " 75%|███████▍  | 1052/1412 [34:34<12:09,  2.03s/it]"
     ]
    },
    {
     "output_type": "stream",
     "name": "stdout",
     "text": [
      "\n",
      "            New 'h3' fields in job description list are present:\n",
      "            \tCheck the output.\n",
      "            \n"
     ]
    },
    {
     "output_type": "stream",
     "name": "stderr",
     "text": [
      " 75%|███████▍  | 1053/1412 [34:36<11:56,  2.00s/it]"
     ]
    },
    {
     "output_type": "stream",
     "name": "stdout",
     "text": [
      "\n",
      "            New 'h3' fields in job description list are present:\n",
      "            \tCheck the output.\n",
      "            \n"
     ]
    },
    {
     "output_type": "stream",
     "name": "stderr",
     "text": [
      " 75%|███████▍  | 1054/1412 [34:38<11:48,  1.98s/it]"
     ]
    },
    {
     "output_type": "stream",
     "name": "stdout",
     "text": [
      "\n",
      "            New 'h3' fields in job description list are present:\n",
      "            \tCheck the output.\n",
      "            \n"
     ]
    },
    {
     "output_type": "stream",
     "name": "stderr",
     "text": [
      " 76%|███████▌  | 1067/1412 [35:03<11:14,  1.96s/it]"
     ]
    },
    {
     "output_type": "stream",
     "name": "stdout",
     "text": [
      "\n",
      "            New 'h3' fields in job description list are present:\n",
      "            \tCheck the output.\n",
      "            \n"
     ]
    },
    {
     "output_type": "stream",
     "name": "stderr",
     "text": [
      " 76%|███████▌  | 1070/1412 [35:09<11:21,  1.99s/it]"
     ]
    },
    {
     "output_type": "stream",
     "name": "stdout",
     "text": [
      "\n",
      "            New 'h3' fields in job description list are present:\n",
      "            \tCheck the output.\n",
      "            \n"
     ]
    },
    {
     "output_type": "stream",
     "name": "stderr",
     "text": [
      " 77%|███████▋  | 1085/1412 [35:39<10:40,  1.96s/it]"
     ]
    },
    {
     "output_type": "stream",
     "name": "stdout",
     "text": [
      "\n",
      "            New 'h3' fields in job description list are present:\n",
      "            \tCheck the output.\n",
      "            \n"
     ]
    },
    {
     "output_type": "stream",
     "name": "stderr",
     "text": [
      " 77%|███████▋  | 1088/1412 [35:45<10:37,  1.97s/it]"
     ]
    },
    {
     "output_type": "stream",
     "name": "stdout",
     "text": [
      "\n",
      "            New 'h3' fields in job description list are present:\n",
      "            \tCheck the output.\n",
      "            \n"
     ]
    },
    {
     "output_type": "stream",
     "name": "stderr",
     "text": [
      " 77%|███████▋  | 1091/1412 [35:51<10:37,  1.99s/it]"
     ]
    },
    {
     "output_type": "stream",
     "name": "stdout",
     "text": [
      "\n",
      "            New 'h3' fields in job description list are present:\n",
      "            \tCheck the output.\n",
      "            \n"
     ]
    },
    {
     "output_type": "stream",
     "name": "stderr",
     "text": [
      " 77%|███████▋  | 1092/1412 [35:53<10:48,  2.03s/it]"
     ]
    },
    {
     "output_type": "stream",
     "name": "stdout",
     "text": [
      "\n",
      "            New 'h3' fields in job description list are present:\n",
      "            \tCheck the output.\n",
      "            \n"
     ]
    },
    {
     "output_type": "stream",
     "name": "stderr",
     "text": [
      " 78%|███████▊  | 1103/1412 [36:15<10:35,  2.06s/it]"
     ]
    },
    {
     "output_type": "stream",
     "name": "stdout",
     "text": [
      "\n",
      "            New 'h3' fields in job description list are present:\n",
      "            \tCheck the output.\n",
      "            \n"
     ]
    },
    {
     "output_type": "stream",
     "name": "stderr",
     "text": [
      " 78%|███████▊  | 1107/1412 [36:24<10:12,  2.01s/it]"
     ]
    },
    {
     "output_type": "stream",
     "name": "stdout",
     "text": [
      "\n",
      "            New 'h3' fields in job description list are present:\n",
      "            \tCheck the output.\n",
      "            \n"
     ]
    },
    {
     "output_type": "stream",
     "name": "stderr",
     "text": [
      " 79%|███████▉  | 1112/1412 [36:34<09:58,  2.00s/it]"
     ]
    },
    {
     "output_type": "stream",
     "name": "stdout",
     "text": [
      "\n",
      "            New 'h3' fields in job description list are present:\n",
      "            \tCheck the output.\n",
      "            \n"
     ]
    },
    {
     "output_type": "stream",
     "name": "stderr",
     "text": [
      " 79%|███████▉  | 1116/1412 [36:41<09:43,  1.97s/it]"
     ]
    },
    {
     "output_type": "stream",
     "name": "stdout",
     "text": [
      "\n",
      "            New 'h3' fields in job description list are present:\n",
      "            \tCheck the output.\n",
      "            \n"
     ]
    },
    {
     "output_type": "stream",
     "name": "stderr",
     "text": [
      " 80%|███████▉  | 1123/1412 [36:56<09:42,  2.02s/it]"
     ]
    },
    {
     "output_type": "stream",
     "name": "stdout",
     "text": [
      "\n",
      "            New 'h3' fields in job description list are present:\n",
      "            \tCheck the output.\n",
      "            \n"
     ]
    },
    {
     "output_type": "stream",
     "name": "stderr",
     "text": [
      " 80%|███████▉  | 1126/1412 [37:02<09:32,  2.00s/it]"
     ]
    },
    {
     "output_type": "stream",
     "name": "stdout",
     "text": [
      "\n",
      "            New 'h3' fields in job description list are present:\n",
      "            \tCheck the output.\n",
      "            \n"
     ]
    },
    {
     "output_type": "stream",
     "name": "stderr",
     "text": [
      " 80%|████████  | 1133/1412 [37:16<09:31,  2.05s/it]"
     ]
    },
    {
     "output_type": "stream",
     "name": "stdout",
     "text": [
      "\n",
      "            New 'h3' fields in job description list are present:\n",
      "            \tCheck the output.\n",
      "            \n"
     ]
    },
    {
     "output_type": "stream",
     "name": "stderr",
     "text": [
      " 80%|████████  | 1135/1412 [37:20<09:08,  1.98s/it]"
     ]
    },
    {
     "output_type": "stream",
     "name": "stdout",
     "text": [
      "\n",
      "            New 'h3' fields in job description list are present:\n",
      "            \tCheck the output.\n",
      "            \n"
     ]
    },
    {
     "output_type": "stream",
     "name": "stderr",
     "text": [
      " 82%|████████▏ | 1154/1412 [37:58<08:40,  2.02s/it]"
     ]
    },
    {
     "output_type": "stream",
     "name": "stdout",
     "text": [
      "\n",
      "            New 'h3' fields in job description list are present:\n",
      "            \tCheck the output.\n",
      "            \n"
     ]
    },
    {
     "output_type": "stream",
     "name": "stderr",
     "text": [
      " 82%|████████▏ | 1163/1412 [38:16<08:24,  2.03s/it]"
     ]
    },
    {
     "output_type": "stream",
     "name": "stdout",
     "text": [
      "\n",
      "            New 'h3' fields in job description list are present:\n",
      "            \tCheck the output.\n",
      "            \n"
     ]
    },
    {
     "output_type": "stream",
     "name": "stderr",
     "text": [
      " 82%|████████▏ | 1164/1412 [38:18<08:20,  2.02s/it]"
     ]
    },
    {
     "output_type": "stream",
     "name": "stdout",
     "text": [
      "\n",
      "            New 'h3' fields in job description list are present:\n",
      "            \tCheck the output.\n",
      "            \n"
     ]
    },
    {
     "output_type": "stream",
     "name": "stderr",
     "text": [
      " 83%|████████▎ | 1165/1412 [38:20<08:24,  2.04s/it]"
     ]
    },
    {
     "output_type": "stream",
     "name": "stdout",
     "text": [
      "\n",
      "            New 'h3' fields in job description list are present:\n",
      "            \tCheck the output.\n",
      "            \n"
     ]
    },
    {
     "output_type": "stream",
     "name": "stderr",
     "text": [
      " 83%|████████▎ | 1166/1412 [38:22<08:18,  2.03s/it]"
     ]
    },
    {
     "output_type": "stream",
     "name": "stdout",
     "text": [
      "\n",
      "            New 'h3' fields in job description list are present:\n",
      "            \tCheck the output.\n",
      "            \n"
     ]
    },
    {
     "output_type": "stream",
     "name": "stderr",
     "text": [
      " 83%|████████▎ | 1167/1412 [38:24<08:21,  2.05s/it]"
     ]
    },
    {
     "output_type": "stream",
     "name": "stdout",
     "text": [
      "\n",
      "            New 'h3' fields in job description list are present:\n",
      "            \tCheck the output.\n",
      "            \n"
     ]
    },
    {
     "output_type": "stream",
     "name": "stderr",
     "text": [
      " 83%|████████▎ | 1168/1412 [38:26<08:13,  2.02s/it]"
     ]
    },
    {
     "output_type": "stream",
     "name": "stdout",
     "text": [
      "\n",
      "            New 'h3' fields in job description list are present:\n",
      "            \tCheck the output.\n",
      "            \n"
     ]
    },
    {
     "output_type": "stream",
     "name": "stderr",
     "text": [
      " 83%|████████▎ | 1169/1412 [38:28<08:17,  2.05s/it]"
     ]
    },
    {
     "output_type": "stream",
     "name": "stdout",
     "text": [
      "\n",
      "            New 'h3' fields in job description list are present:\n",
      "            \tCheck the output.\n",
      "            \n"
     ]
    },
    {
     "output_type": "stream",
     "name": "stderr",
     "text": [
      " 83%|████████▎ | 1170/1412 [38:30<08:10,  2.03s/it]"
     ]
    },
    {
     "output_type": "stream",
     "name": "stdout",
     "text": [
      "\n",
      "            New 'h3' fields in job description list are present:\n",
      "            \tCheck the output.\n",
      "            \n"
     ]
    },
    {
     "output_type": "stream",
     "name": "stderr",
     "text": [
      " 87%|████████▋ | 1222/1412 [40:17<06:30,  2.06s/it]"
     ]
    },
    {
     "output_type": "stream",
     "name": "stdout",
     "text": [
      "\n",
      "            New 'h3' fields in job description list are present:\n",
      "            \tCheck the output.\n",
      "            \n"
     ]
    },
    {
     "output_type": "stream",
     "name": "stderr",
     "text": [
      " 88%|████████▊ | 1238/1412 [40:49<05:57,  2.06s/it]"
     ]
    },
    {
     "output_type": "stream",
     "name": "stdout",
     "text": [
      "\n",
      "            New 'h3' fields in job description list are present:\n",
      "            \tCheck the output.\n",
      "            \n"
     ]
    },
    {
     "output_type": "stream",
     "name": "stderr",
     "text": [
      " 88%|████████▊ | 1247/1412 [41:08<05:44,  2.09s/it]"
     ]
    },
    {
     "output_type": "stream",
     "name": "stdout",
     "text": [
      "\n",
      "            New 'h3' fields in job description list are present:\n",
      "            \tCheck the output.\n",
      "            \n"
     ]
    },
    {
     "output_type": "stream",
     "name": "stderr",
     "text": [
      " 89%|████████▊ | 1252/1412 [41:18<05:26,  2.04s/it]"
     ]
    },
    {
     "output_type": "stream",
     "name": "stdout",
     "text": [
      "\n",
      "            New 'h3' fields in job description list are present:\n",
      "            \tCheck the output.\n",
      "            \n"
     ]
    },
    {
     "output_type": "stream",
     "name": "stderr",
     "text": [
      " 89%|████████▊ | 1253/1412 [41:20<05:30,  2.08s/it]"
     ]
    },
    {
     "output_type": "stream",
     "name": "stdout",
     "text": [
      "\n",
      "            New 'h3' fields in job description list are present:\n",
      "            \tCheck the output.\n",
      "            \n"
     ]
    },
    {
     "output_type": "stream",
     "name": "stderr",
     "text": [
      " 91%|█████████ | 1286/1412 [42:26<04:14,  2.02s/it]"
     ]
    },
    {
     "output_type": "stream",
     "name": "stdout",
     "text": [
      "\n",
      "            New 'h3' fields in job description list are present:\n",
      "            \tCheck the output.\n",
      "            \n"
     ]
    },
    {
     "output_type": "stream",
     "name": "stderr",
     "text": [
      " 92%|█████████▏| 1293/1412 [42:40<04:07,  2.08s/it]"
     ]
    },
    {
     "output_type": "stream",
     "name": "stdout",
     "text": [
      "\n",
      "            New 'h3' fields in job description list are present:\n",
      "            \tCheck the output.\n",
      "            \n"
     ]
    },
    {
     "output_type": "stream",
     "name": "stderr",
     "text": [
      " 93%|█████████▎| 1310/1412 [43:14<03:25,  2.01s/it]"
     ]
    },
    {
     "output_type": "stream",
     "name": "stdout",
     "text": [
      "\n",
      "            New 'h3' fields in job description list are present:\n",
      "            \tCheck the output.\n",
      "            \n"
     ]
    },
    {
     "output_type": "stream",
     "name": "stderr",
     "text": [
      " 96%|█████████▌| 1354/1412 [44:41<01:55,  2.00s/it]"
     ]
    },
    {
     "output_type": "stream",
     "name": "stdout",
     "text": [
      "\n",
      "            New 'h3' fields in job description list are present:\n",
      "            \tCheck the output.\n",
      "            \n"
     ]
    },
    {
     "output_type": "stream",
     "name": "stderr",
     "text": [
      " 99%|█████████▊| 1392/1412 [45:57<00:39,  1.98s/it]"
     ]
    },
    {
     "output_type": "stream",
     "name": "stdout",
     "text": [
      "\n",
      "            New 'h3' fields in job description list are present:\n",
      "            \tCheck the output.\n",
      "            \n"
     ]
    },
    {
     "output_type": "stream",
     "name": "stderr",
     "text": [
      " 99%|█████████▉| 1402/1412 [46:16<00:19,  1.97s/it]"
     ]
    },
    {
     "output_type": "stream",
     "name": "stdout",
     "text": [
      "\n",
      "            New 'h3' fields in job description list are present:\n",
      "            \tCheck the output.\n",
      "            \n"
     ]
    },
    {
     "output_type": "stream",
     "name": "stderr",
     "text": [
      " 99%|█████████▉| 1404/1412 [46:20<00:16,  2.01s/it]"
     ]
    },
    {
     "output_type": "stream",
     "name": "stdout",
     "text": [
      "\n",
      "            New 'h3' fields in job description list are present:\n",
      "            \tCheck the output.\n",
      "            \n"
     ]
    },
    {
     "output_type": "stream",
     "name": "stderr",
     "text": [
      "100%|██████████| 1412/1412 [46:36<00:00,  1.98s/it]\n"
     ]
    },
    {
     "output_type": "stream",
     "name": "stdout",
     "text": [
      "1412/1412 jobs scraped.\n",
      "Saving files.\n",
      "Company_Title: 1412\n",
      "Company_URL: 1412\n",
      "URL: 1412\n",
      "Total_views: 1412\n",
      "Followers: 1412\n",
      "Active_Jobs: 1412\n",
      "Jobs_History: 1412\n",
      "Job_Views: 1412\n",
      "Job_Title: 1412\n",
      "Application_Deadline: 1412\n",
      "Industry: 1412\n",
      "Employment_term: 1412\n",
      "Job_Category: 1412\n",
      "Job_type: 1412\n",
      "Job_Location: 1412\n",
      "Salary: 1412\n",
      "Job_description: 1412\n",
      "Job_responsibilities: 1412\n",
      "Required_qualifications: 1412\n",
      "Required_candidate_level: 1412\n",
      "Additional_information: 1412\n",
      "Professional_skills: 1412\n",
      "Soft_skills: 1412\n",
      ": 18\n",
      "Are_you_our_future_Sparker_colleague_?_Apply_now_or_send_me_your_CV_at: 2\n",
      "https//www.sparkers.com/: 3\n",
      "Big_data_developer_Spark_(Scala_/_Python): 1\n",
      "Anyone_interested_in_the_job_can_send_their_CV_to: 1\n",
      "Interested_candidates_should_submit_a_resume_via_our_career_portal_ by_clicking: 13\n",
      "Personal_Qualities: 1\n",
      "Interested_candidates_should_submit_a_resume_and_portfolio_via_our_career_portal_ by_clicking: 9\n",
      "Interested_candidates_should_submit_a_resume via_our_career_portal_ by_clicking: 9\n",
      "About_the_Prague_Civil_Society_Centre: 1\n",
      "What_We_Offer: 1\n",
      "Application_Details: 1\n",
      "We_are_an_international_IT_company_with_headquarters_in_Singapore.: 1\n",
      "Are_you_our_future_Sparker_colleague_?_Apply_now_or_send_me_your_CV: 1\n",
      "Համապատասխան_մասնագիտական_որակավուրում_ունեցող_անձիք_կարող_են_իրենց_ինքնակենսագրականները_(CV)_ուղարկել_հետևյալ_էլ._հասցեին՝: 3\n",
      "Benefits: 4\n",
      "Արտադրանքի,_հումք-նյութերի_քիմիական_ստուգումների_և_փորձաքննությունների_իրականացում։: 1\n",
      "About_us_and_the_role: 2\n",
      "Interested?: 1\n",
      "Компания_\"Экра_Кавказ\"_ищет_специалиста_по_тендерам: 1\n",
      "WE_OFFER: 2\n",
      "Digitec_Innovations_is_looking_for_an_React_JS_Developer_to_join_the_team_of_IT_professionals.: 1\n",
      "We_are_looking_for_a_teammate_who_is_committed_to_delivering_high-quality_custom-tailored_solutions_for_corporations_and_startups.: 1\n",
      "Essential_Duties: 1\n",
      "Required_Skills/Experience: 1\n",
      "Preferred_Skills/Experience: 1\n",
      "ԷԼԷՄԷՍ_ՍՊԸ-ն_փնտրում_է_տնայցի_մասնագետ,_ով_կաշխատի_ժամկետանց_վարկերի,_արդյունավետ_կերպով_կիրականացնի_հաճախորդների_սպասարկում_և_համապատասխան_պայմանների_առաջարկություն_`պարտքերը_վերացնելու_նպատակով,_մասնավորապես_տնայցեր_կատարելու_եղանակով։: 1\n",
      "We_are_looking_for_a_qualified_Graphic_Designer_to_join_our_team._This_is_an_opportunity_to_join_one_of_the_best_creative_agencies_in_the_region._You_will_work_closely_with_the_team_to_produce_creative,_visually_appealing_content_that_reflects_clients’_visions.: 1\n",
      "About_us: 1\n",
      "About_the_role: 1\n",
      "About_you: 1\n",
      "Interested_individuals_are_requested_to_send_their: 1\n",
      "Sample_articles: 1\n",
      "to: 1\n",
      "Please_clearly_mention_that_you_have_heard_of_this_job_opportunity_on_staff.am: 3\n",
      "Հիանալի_հնարավորություն_միանալու_՛՛Կոնսէլ՛՛_ընկերության_թիմին: 1\n",
      "Բարձրագույն_ինժեներական_կրթություն: 1\n",
      "(HVAC)_մասնագիտացումը_կդիտվի_որպես_առավելություն: 1\n",
      "Աշխատանքային_փորձը_պարտադիր_է: 1\n",
      "Դիմելու_համար՝: 1\n",
      "ուղարկել_ինքնակենսագրականն_(CV): 1\n",
      "Interested_individuals_are_requested_to_send_their_CV_to: 1\n",
      "Please,_clearly_mention_in_the_subject_line_\"SMM_Specialist\"._Only_shortlisted_candidates_will_be_considered․_We_look_forward_to_your_applications!: 1\n",
      "We_are: 1\n",
      "Description: 1\n",
      "Interested_individuals_are_requested_to_send_their CV to: 1\n",
      "Պարտականություններ: 4\n",
      "Պահանջներ: 4\n",
      "Additional_information_(required): 2\n",
      "Հետաքրքրված_թեկնածուները_իրենց_ինքնակենսագրականները_կարող_են_ուղարկել: 1\n",
      "RESPONSIBILITIES: 1\n",
      "REQUIREMENTS: 1\n",
      "NICE_TO_HAVE: 1\n",
      "gg_թիմը_փնտրում_է_կյանքով_լի,_պայծառ_և_եռանդուն_մարդկանց_մեր_ֆանտաստիկ_և_հետաքրքիր_ճանապարհը_միասին_անցնելու_համար։: 1\n",
      "Հնարավոր_է_նաև_գիշերային_հերթափոխով_աշխատանք_(պարտադիր_չէ)։: 1\n",
      "What_we_offer: 4\n",
      "KSPE_Software_is_looking_for_a_talented,_fast_learner_and_highly_motivated: 1\n",
      "What_will_you_be_doing?: 1\n",
      "To_succeed_in_this_role,_you_should_have: 1\n",
      "What_you'll_also_get_if_you_join_TCF?: 1\n",
      "Finally,_how_to_join_us?: 1\n",
      "Preferred_Qualifications: 1\n",
      "Who_we_are: 1\n",
      "We_offer: 1\n",
      "Աշխատանքային_պարտականություններն_են՝: 2\n",
      "E-works_is_looking_for_an_experienced_IOS_Developer_who_is_passionate_about_programming_and_thrives_for_new_challenges_and_opportunities_to_advance.: 1\n",
      "\"Alpha_food_service\"_company_is_looking_for_a_content_manager_who_will_be_responsible_for_creation_of_coherent,_holistic_and_relevant_marketing_content_relevant_for_company’s_communication_instruments_such_as_SMM,_ATL,_PR_and_other._Content_writer_main_goal_is_to_create_cohesive_brand_message_for_different_products_and_services_of_the_company.: 1\n",
      "<<ԱԼՖԱ_ՖՈՒԴ_ՍԵՐՎԻՍ>>_ՍՊԸ-ն_աշխատանքի_է_հրավիրում_գինու_վաճառքի_մենեջերի՝_ընկերության_վաճառքների_պատշաճ_կազմակերպման,_պլանավորման_և_առաջխաղացման_նպատակով: 1\n",
      "-վաճառքների_զարգացում_և_խթանում,: 1\n",
      "Ներկայացված պահանջներին համապատասխանող թեկնածուները կարող են ուղարկել ինքնակենսագրականը հետևյալ էլ. փոստի հասցեով.: 1\n",
      "Benefits_at_Krisp: 4\n",
      "Krisp_is_an_Equal_Opportunity_Employer: 5\n",
      "How_to_Apply: 1\n",
      "Interested_candidates_should_submit_a_resume_and_portfolio_via_our_career_portal_by_clicking: 1\n",
      "Interested_candidates_should_submit_a_resume_via_our_career_portal by_clicking: 2\n",
      "Working_days: 3\n",
      "Անհրաժեշտ_հմտություններ՝: 1\n",
      "Նկարագրություն: 3\n",
      "Հավելյալ_նշումներ: 3\n",
      "մշակել_ընդհանուր_ռազմավարություն_կազմակերպության՝_սոցիալական_ցանցերում_ներկայացվածության_և_ակտիվության_ապահովման_համար,: 1\n",
      "պարբերաբար_պատրաստել_իրականացված_աշխատանքի_և_դրա_արդյունքների_մասին_հաշվետվություն,: 1\n",
      "անհրաժեշտության_դեպքում_կազմակերպել_միջոցառումներ,_արշավներ_և_խաղեր,: 1\n",
      "ստեղծել,_խմբագրել,_հրապարակել_և_տարածել_ամենօրյա_բովանդակությունը՝_նպաստելով_լսարանի_կողմից_դրա_նկատմամբ_որոշակի_գործողությունների_(հավանել,_տարածել,_մեկնաբանել)_իրականացմանը,: 1\n",
      "ուսումնասիրել_կազմակերպության_էջերը,_ներկայացնել_առաջարկներ_դրանց_ոճային_և_կառուցվածքային_փոփոխությունների_իրականացման_համար,: 1\n",
      "ուսումնասիրել_ոլորտը_և_մշտապես_տեղյակ_լինել_փոփոխություններին,: 1\n",
      "համագործակցել_թիմի_մյուս_անդամների_հետ՝_սոցիալական_մեդիայում_ռազմավարության_քննարկման_և_հետագա_քայլերի_մշակման_համար,: 1\n",
      "մշտապես_տեղեկացված_լինել_ոլորտի_նորություններին_և_փոփոխություններին,_մշակել_նոր_մտքեր_և_առաջարկներ_լսարանի_ներգրավվածության_ապահովման_համար,: 1\n",
      "անհրաժեշտության_դեպքում_ներկայացնել_կազմակերպության_ծառայությունները_էլ․_փոստով_նամակագրության_կամ_LinkedIn-ի_միջոցով։: 1\n",
      "Սոցիալական_կայք_-_էջերի_վարման_փորձառություն,_կայքի_օպտիմիզացիա_և_առաջխաղացում: 1\n",
      "Facebook,_Twitter,_Instagram,_Tumblr,_Youtube,_Pinterest,_Linkedin,_Google_+_լավ_իմացություն: 1\n",
      "Հայերեն,_ռուսերեն,_անգլերեն_լեզվի_գրավոր_և_բանավոր_բարձր_մակարդակ: 1\n",
      "սովորելու_ցանկություն: 1\n",
      "մանրուքների_նկատմամբ_ուշադրություն: 1\n",
      "ճշտապահություն_և_ժամանակի_արդյունավետ_կառավարման_ունակություն: 1\n",
      "սոցիալական_ցանցերում_և_մեդիայում_վիճակագրությունների_վերլուծության_մեթոդների_իմացություն: 1\n",
      "Մարքետինգային_և_գովազդային_միջոցառումների_իրականացում,_վաճառքի_ծավալների_ընդլայման_նպատակով: 1\n",
      "Պորտֆոլիոյի_առարկություն: 1\n",
      "վաճառքի_գործընթացի_կազմակերպում_և_վերահսկում: 1\n",
      "պոտենցիալ_հաճախորդների_մասին_ինֆորմացիայի_հավաքագրում: 1\n",
      "գնառաջարկներ_կազմելու_ունակություն: 1\n",
      "բանակցությունների_վարում: 1\n",
      "հանդիպումների_կազմակերպում: 1\n",
      "հաճախորդների_հետ_հետադարձ_կապի_պահպանում: 1\n",
      "վաճառքի_աճի_նոր_հնարավորությունների_բացահայտում: 1\n",
      "շուկայի_մոնիթորինգի_իրականացում: 1\n",
      "վաճառքի_արդյունքների_վերլուծություն_և_հաշվետվությունների_ներկայացում_տնօրինությանը: 1\n",
      "Հետաքրքրված _անձինք_կարող_են_ուղարկել_իրենց_ինքնակենսագրականը: 1\n",
      "Nice_to_Have: 5\n",
      "Would_be_a_plus: 1\n",
      "Our_client_is_a_CFD/Forex_Broker_in_Yerevan_looking_for_a_Account_Managers_to_join_their_team.: 1\n",
      "Responsibilities_&_Duties: 2\n",
      "Requirements: 2\n",
      "Դիմելու_համար_խնդրում_ենք_գրել: 1\n",
      "Սպասարկել_ընկերության_մուտքային_և_ելքային_զանգերը_և_չաթերը: 1\n",
      "Պարզել_հաճախորդների_մոտ_առկա_տեխնիկական_խնդիրները_և_առաջարկել_լուծման_տարբերակներ: 1\n",
      "Արդյունավետ_և_ժամանակին_պատասխանել_բաժանորդների_տեխնիկական_բնույթի_հարցերին_և_նամակներին: 1\n",
      "ԱՇԽԱՏԱՆՔԱՅԻՆ_ԳՐԱՖԻԿԸ․: 1\n",
      "Հերթափոխային: 1\n",
      "Բարձրագույն_կրթություն: 1\n",
      "Գերազանց_տիրապետում_համակարգչին: 1\n",
      "Հայերենի_գերազանց_իմացություն,_ռուսերենի_և_անգլերենի_լավ_տիրապետում: 1\n",
      "Գրավոր_և_բանավոր_հաղորդակցման_գերազանց_հմտություններ: 1\n",
      "Թիմում_աշխատելու_ունակություն: 1\n",
      "Լարված_իրավիճակներում_աշխատելու_և_արագ_կողմնորոշվելու_ունակություն: 1\n",
      "Խնդրում_ենք_ձեր ինքնակենսագրականը_ուղարկել: 1\n",
      "Essential_duties: 1\n",
      "Interested_candidates_should_submit_a_resume_and_portfolio via_our_career_portal_ by_clicking: 12\n",
      "Interested_candidates_should_submit_a_resume _via_our_career_portal_ by_clicking: 1\n",
      "Կազմակերպության_«Գյումրի»,_«Արթիկ»,_«Իջևան»,_«Մարտունի»,_«Մասիս»_մասնաճյուղին_անհրաժեշտ_են_գիշերային_հերթափոխով_գանձապահներ։: 1\n",
      "Կազմակերպության_մասնաճյուղին_անհրաժեշտ_են_գանձապահներ_հետևյալ_աշխատաժամանակներով_՝: 1\n",
      "«Իմէքս_Գրուպ»_Ընկերությունը_OVS_բրենդային_խանութ_սրահներում_աշխատելու_համար_աշխատանքի_է_հրավիրում_սպասարկող_գործակալների,_ովքեր_զբաղվելու_են_հաճախորդներին_անհրաժեշտ_խորհրդատվության_տրամադրմամբ_ու_վաճառքներով: 1\n",
      "Վարկային_մասնագետ/ՓՄՁ_և_Գյուղատնտեսական_վարկավորման_գծով: 1\n",
      "Detected 1 new companies.\n",
      "Starting crawling companies.\n"
     ]
    },
    {
     "output_type": "stream",
     "name": "stderr",
     "text": [
      "100%|██████████| 1/1 [00:00<00:00,  1.44it/s]"
     ]
    },
    {
     "output_type": "stream",
     "name": "stdout",
     "text": [
      "Extracted 1/1\n",
      "Mon Sep 20 20:21:00 2021\n",
      "Ended crawling 'https://staff.am'.\n"
     ]
    },
    {
     "output_type": "stream",
     "name": "stderr",
     "text": [
      "\n"
     ]
    }
   ],
   "metadata": {}
  },
  {
   "cell_type": "code",
   "execution_count": null,
   "source": [
    "a.iterable"
   ],
   "outputs": [
    {
     "data": {
      "text/plain": [
       "<enumerate at 0x18b0b1b9400>"
      ]
     },
     "metadata": {},
     "output_type": "display_data"
    }
   ],
   "metadata": {}
  },
  {
   "cell_type": "code",
   "execution_count": null,
   "source": [],
   "outputs": [],
   "metadata": {}
  }
 ],
 "metadata": {
  "kernelspec": {
   "name": "python3",
   "display_name": "Python 3.9.7 64-bit ('JobScraper': pipenv)"
  },
  "language_info": {
   "codemirror_mode": {
    "name": "ipython",
    "version": 3
   },
   "file_extension": ".py",
   "mimetype": "text/x-python",
   "name": "python",
   "nbconvert_exporter": "python",
   "pygments_lexer": "ipython3",
   "version": "3.9.7"
  },
  "interpreter": {
   "hash": "f0513b277ba5ddf6e20f5909d0cda4058bc58308612d395d649a61eed9930028"
  }
 },
 "nbformat": 4,
 "nbformat_minor": 2
}