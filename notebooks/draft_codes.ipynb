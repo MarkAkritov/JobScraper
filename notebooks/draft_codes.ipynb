{
 "cells": [
  {
   "cell_type": "code",
   "execution_count": null,
   "source": [
    "import os, sys\n",
    "sys.path.append(os.path.abspath(\"..\"))\n",
    "\n",
    "import requests\n",
    "import scrapy\n",
    "import time\n",
    "import pandas as pd\n",
    "from pprint import pprint\n",
    "import re\n",
    "import json\n",
    "import datetime\n",
    "\n",
    "from scrapers import staff"
   ],
   "outputs": [],
   "metadata": {}
  },
  {
   "cell_type": "code",
   "execution_count": null,
   "source": [
    "data = staff.main()"
   ],
   "outputs": [],
   "metadata": {}
  },
  {
   "cell_type": "code",
   "execution_count": null,
   "source": [
    "with open(\"../data/postings/staff_08.10.21.json\", \"r\") as f:\n",
    "    dat = json.load(f)\n",
    "\n",
    "len(dat[\"URL\"])"
   ],
   "outputs": [],
   "metadata": {}
  },
  {
   "cell_type": "code",
   "execution_count": null,
   "source": [
    "len(data.keys())"
   ],
   "outputs": [],
   "metadata": {}
  },
  {
   "cell_type": "code",
   "execution_count": null,
   "source": [
    "all_default_keys = (\n",
    "    \"Company_Title\", \"Company_URL\", \"URL\", \"Total_views\", \"Followers\",\n",
    "    \"Active_Jobs\", \"Jobs_History\", \"Job_Views\", \"Job_Title\",\n",
    "    \"Application_Deadline\", \"Industry\", \"Employment_term\",\n",
    "    \"Job_Category\", \"Job_type\", \"Job_Location\",\n",
    "    \"Job_description\", \"Job_responsibilities\",\n",
    "    \"Required_qualifications\", \"Required_candidate_level\",\n",
    "    \"Salary\", \"Additional_information\",\n",
    "    \"Professional_skills\", \"Soft_skills\"\n",
    ")"
   ],
   "outputs": [],
   "metadata": {}
  },
  {
   "cell_type": "code",
   "execution_count": null,
   "source": [
    "new_keys = [k for k in data.keys() if k not in all_default_keys]"
   ],
   "outputs": [],
   "metadata": {}
  },
  {
   "cell_type": "code",
   "execution_count": null,
   "source": [
    "len(new_keys)"
   ],
   "outputs": [],
   "metadata": {}
  },
  {
   "cell_type": "code",
   "execution_count": null,
   "source": [
    "sorted([(k, len(data[k])) for k in new_keys], key=lambda x: x[1])[::-1]"
   ],
   "outputs": [],
   "metadata": {}
  },
  {
   "cell_type": "code",
   "execution_count": null,
   "source": [
    "data[\"Additional_information\"]"
   ],
   "outputs": [],
   "metadata": {}
  },
  {
   "cell_type": "code",
   "execution_count": null,
   "source": [
    "rs = requests.get(\"https://staff.am/en/senior-uiux-designer-112\")\n",
    "response = scrapy.http.HtmlResponse(url=rs.url, body=rs.text, encoding=\"utf-8\")"
   ],
   "outputs": [],
   "metadata": {}
  },
  {
   "cell_type": "code",
   "execution_count": null,
   "source": [
    "staff.get_info_from_one_posting(\"https://staff.am/en/senior-uiux-designer-112\")"
   ],
   "outputs": [],
   "metadata": {}
  },
  {
   "cell_type": "code",
   "execution_count": null,
   "source": [
    "scrape = staff.crawl_all_postings([\"https://staff.am/en/senior-engineer-ii-c\", \"https://staff.am/en/senior-uiux-designer-112\"])"
   ],
   "outputs": [],
   "metadata": {}
  },
  {
   "cell_type": "code",
   "execution_count": null,
   "source": [
    "arr = [f\"{i}th val\" for i in range(100)]"
   ],
   "outputs": [],
   "metadata": {}
  },
  {
   "cell_type": "code",
   "execution_count": null,
   "source": [
    "import time\n",
    "from rich.progress import track\n",
    "from rich import progress_bar"
   ],
   "outputs": [],
   "metadata": {}
  },
  {
   "cell_type": "code",
   "execution_count": null,
   "source": [
    "for i in track(arr):\n",
    "    time.sleep(0.1)"
   ],
   "outputs": [],
   "metadata": {}
  },
  {
   "cell_type": "code",
   "execution_count": null,
   "source": [],
   "outputs": [],
   "metadata": {}
  }
 ],
 "metadata": {
  "kernelspec": {
   "name": "python3",
   "display_name": "Python 3.9.5 64-bit ('JobScraper-NyAeU1wv': pipenv)"
  },
  "language_info": {
   "codemirror_mode": {
    "name": "ipython",
    "version": 3
   },
   "file_extension": ".py",
   "mimetype": "text/x-python",
   "name": "python",
   "nbconvert_exporter": "python",
   "pygments_lexer": "ipython3",
   "version": "3.9.5"
  },
  "interpreter": {
   "hash": "fff928a951424cfdc43fbe050f38fee7460fe43294dc9223e252278b19a978a9"
  }
 },
 "nbformat": 4,
 "nbformat_minor": 2
}