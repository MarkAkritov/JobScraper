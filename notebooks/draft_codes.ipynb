{
 "cells": [
  {
   "cell_type": "code",
   "execution_count": 1,
   "source": [
    "import os, sys\r\n",
    "sys.path.append(os.path.abspath(\"..\"))\r\n",
    "\r\n",
    "# import requests\r\n",
    "# import scrapy\r\n",
    "# import time\r\n",
    "import pandas as pd\r\n",
    "from pprint import pprint\r\n",
    "# import re\r\n",
    "# import json\r\n",
    "# import datetime\r\n",
    "\r\n",
    "from scrapers import staff"
   ],
   "outputs": [],
   "metadata": {}
  },
  {
   "cell_type": "code",
   "execution_count": 2,
   "source": [
    "data = staff.main()"
   ],
   "outputs": [
    {
     "output_type": "stream",
     "name": "stdout",
     "text": [
      "Thu Sep 16 19:12:14 2021\n",
      "Starting crawling 'https://staff.am'.\n",
      "1499 jobs detected.\n",
      "Starting crawling job postings..\n",
      "https://staff.am/en/zangeri-spasarkman-kentroni-masnaget-k-vanajor\n",
      "1/10 Est.: 1.5m.\n",
      "https://staff.am/en/intern-3-months-4\n",
      "2/10 Est.: 1.33m.\n",
      "https://staff.am/en/quality-assurance-engineer-67\n",
      "3/10 Est.: 1.17m.\n",
      "https://staff.am/en/dispatcher-administativ-assistant\n",
      "4/10 Est.: 1.0m.\n",
      "\n",
      "            New 'h3' fields in job description list are present:\n",
      "            \tCheck the output.\n",
      "            \n",
      "https://staff.am/en/driver-courier-2\n",
      "5/10 Est.: 0.83m.\n",
      "\n",
      "            New 'h3' fields in job description list are present:\n",
      "            \tCheck the output.\n",
      "            \n",
      "https://staff.am/en/netc-developer-71\n",
      "6/10 Est.: 0.67m.\n",
      "https://staff.am/en/nerkin-anvtangutyan-tesahskman-masnaget-25\n",
      "7/10 Est.: 0.5m.\n",
      "https://staff.am/en/uiuxgraphic-design\n",
      "8/10 Est.: 0.33m.\n",
      "https://staff.am/en/service-engineer-3\n",
      "9/10 Est.: 0.17m.\n",
      "https://staff.am/en/general-manager-40\n",
      "10/10 Est.: 0.0m.\n",
      "Thu Sep 16 19:14:26 2021\n",
      "Ended crawling 'https://staff.am'.\n",
      "10/1499 jobs scraped.\n",
      "Saving files.\n",
      "Company_Title: 10\n",
      "Total_views: 10\n",
      "Followers: 10\n",
      "Active_Jobs: 10\n",
      "Jobs_History: 10\n",
      "Job_Views: 10\n",
      "Job_Title: 10\n",
      "Application_Deadline: 10\n",
      "Industry: 10\n",
      "Employment_term: 10\n",
      "Job_Category: 10\n",
      "Job_type: 10\n",
      "Job_Location: 10\n",
      "Salary: 10\n",
      "Job_description: 10\n",
      "Job_responsibilities: 10\n",
      "Required_qualifications: 10\n",
      "Required_candidate_level: 10\n",
      "Additional_information: 10\n",
      "Professional_skills: 10\n",
      "Soft_skills: 10\n"
     ]
    }
   ],
   "metadata": {}
  },
  {
   "cell_type": "code",
   "execution_count": null,
   "source": [],
   "outputs": [],
   "metadata": {}
  }
 ],
 "metadata": {
  "kernelspec": {
   "name": "python3",
   "display_name": "Python 3.9.7 64-bit ('JobScraper': pipenv)"
  },
  "language_info": {
   "codemirror_mode": {
    "name": "ipython",
    "version": 3
   },
   "file_extension": ".py",
   "mimetype": "text/x-python",
   "name": "python",
   "nbconvert_exporter": "python",
   "pygments_lexer": "ipython3",
   "version": "3.9.7"
  },
  "interpreter": {
   "hash": "f0513b277ba5ddf6e20f5909d0cda4058bc58308612d395d649a61eed9930028"
  }
 },
 "nbformat": 4,
 "nbformat_minor": 2
}