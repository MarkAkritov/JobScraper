{
 "cells": [
  {
   "cell_type": "code",
   "execution_count": null,
   "source": [
    "import os, sys\r\n",
    "sys.path.append(os.path.abspath(\"..\"))\r\n",
    "\r\n",
    "import requests\r\n",
    "import scrapy\r\n",
    "import time\r\n",
    "import pandas as pd\r\n",
    "from pprint import pprint\r\n",
    "import re\r\n",
    "import json\r\n",
    "import datetime\r\n",
    "\r\n",
    "from scrapers import staff"
   ],
   "outputs": [],
   "metadata": {}
  },
  {
   "cell_type": "code",
   "execution_count": null,
   "source": [
    "data = staff.main()"
   ],
   "outputs": [],
   "metadata": {}
  }
 ],
 "metadata": {
  "kernelspec": {
   "name": "python3",
   "display_name": "Python 3.9.7 64-bit ('JobScraper': pipenv)"
  },
  "language_info": {
   "codemirror_mode": {
    "name": "ipython",
    "version": 3
   },
   "file_extension": ".py",
   "mimetype": "text/x-python",
   "name": "python",
   "nbconvert_exporter": "python",
   "pygments_lexer": "ipython3",
   "version": "3.9.7"
  },
  "interpreter": {
   "hash": "f0513b277ba5ddf6e20f5909d0cda4058bc58308612d395d649a61eed9930028"
  }
 },
 "nbformat": 4,
 "nbformat_minor": 2
}