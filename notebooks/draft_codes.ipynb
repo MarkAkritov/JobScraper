{
 "cells": [
  {
   "cell_type": "code",
   "execution_count": 1,
   "source": [
    "import os, sys\r\n",
    "sys.path.append(os.path.abspath(\"..\"))\r\n",
    "\r\n",
    "import requests\r\n",
    "import scrapy\r\n",
    "import time\r\n",
    "import pandas as pd\r\n",
    "from pprint import pprint\r\n",
    "import re\r\n",
    "import json\r\n",
    "import datetime\r\n",
    "\r\n",
    "from scrapers import staff"
   ],
   "outputs": [],
   "metadata": {}
  },
  {
   "cell_type": "code",
   "execution_count": 2,
   "source": [
    "data = staff.main()"
   ],
   "outputs": [
    {
     "output_type": "stream",
     "name": "stdout",
     "text": [
      "Thu Sep 23 19:13:09 2021\n",
      "Starting crawling 'https://staff.am'.\n",
      "1474 jobs detected.\n",
      "Starting crawling job postings..\n"
     ]
    },
    {
     "output_type": "stream",
     "name": "stderr",
     "text": [
      "URL https://staff.am/en/onlayn-xagavar-29: 100%|██████████| 1474/1474 [50:27<00:00,  2.05s/it]\n"
     ]
    },
    {
     "output_type": "stream",
     "name": "stdout",
     "text": [
      "1474/1474 jobs scraped.\n",
      "Saving files.\n",
      "Company_Title: 1474\n",
      "Company_URL: 1474\n",
      "URL: 1474\n",
      "Total_views: 1474\n",
      "Followers: 1474\n",
      "Active_Jobs: 1474\n",
      "Jobs_History: 1474\n",
      "Job_Views: 1474\n",
      "Job_Title: 1474\n",
      "Application_Deadline: 1474\n",
      "Other: 1474\n",
      "Industry: 1474\n",
      "Employment_term: 1474\n",
      "Job_Category: 1474\n",
      "Job_type: 1474\n",
      "Job_Location: 1474\n",
      "Text: 1474\n",
      "Salary: 1474\n",
      "Job_description: 1474\n",
      "Job_responsibilities: 1474\n",
      "Required_qualifications: 1474\n",
      "Required_candidate_level: 1474\n",
      "Additional_information: 1474\n",
      "Professional_skills: 1474\n",
      "Soft_skills: 1474\n",
      "Detected 15 new companies.\n",
      "Starting crawling companies.\n"
     ]
    },
    {
     "output_type": "stream",
     "name": "stderr",
     "text": [
      "100%|██████████| 15/15 [00:12<00:00,  1.18it/s]"
     ]
    },
    {
     "output_type": "stream",
     "name": "stdout",
     "text": [
      "Extracted 15/15\n",
      "Thu Sep 23 20:04:19 2021\n",
      "Ended crawling 'https://staff.am'.\n"
     ]
    },
    {
     "output_type": "stream",
     "name": "stderr",
     "text": [
      "\n"
     ]
    }
   ],
   "metadata": {}
  },
  {
   "cell_type": "code",
   "execution_count": null,
   "source": [
    "len(data.keys())"
   ],
   "outputs": [],
   "metadata": {}
  },
  {
   "cell_type": "code",
   "execution_count": null,
   "source": [
    "all_default_keys = (\r\n",
    "        \"Company_Title\", \"Company_URL\", \"URL\", \"Total_views\", \"Followers\",\r\n",
    "        \"Active_Jobs\", \"Jobs_History\", \"Job_Views\", \"Job_Title\",\r\n",
    "        \"Application_Deadline\", \"Industry\", \"Employment_term\",\r\n",
    "        \"Job_Category\", \"Job_type\", \"Job_Location\",\r\n",
    "        \"Job_description\", \"Job_responsibilities\",\r\n",
    "        \"Required_qualifications\", \"Required_candidate_level\",\r\n",
    "        \"Salary\", \"Additional_information\",\r\n",
    "        \"Professional_skills\", \"Soft_skills\"\r\n",
    "    )"
   ],
   "outputs": [],
   "metadata": {}
  },
  {
   "cell_type": "code",
   "execution_count": null,
   "source": [
    "new_keys = [k for k in data.keys() if k not in all_default_keys]"
   ],
   "outputs": [],
   "metadata": {}
  },
  {
   "cell_type": "code",
   "execution_count": null,
   "source": [
    "len(new_keys)"
   ],
   "outputs": [],
   "metadata": {}
  },
  {
   "cell_type": "code",
   "execution_count": null,
   "source": [
    "sorted([(k, len(data[k])) for k in new_keys], key=lambda x: x[1])[::-1]"
   ],
   "outputs": [],
   "metadata": {}
  },
  {
   "cell_type": "code",
   "execution_count": null,
   "source": [
    "data[\"Additional_information\"]"
   ],
   "outputs": [],
   "metadata": {}
  },
  {
   "cell_type": "code",
   "execution_count": null,
   "source": [
    "rs = requests.get(\"https://staff.am/en/senior-uiux-designer-112\")\r\n",
    "response = scrapy.http.HtmlResponse(url=rs.url, body=rs.text, encoding=\"utf-8\")"
   ],
   "outputs": [],
   "metadata": {}
  },
  {
   "cell_type": "code",
   "execution_count": null,
   "source": [
    "staff.get_info_from_one_posting(\"https://staff.am/en/senior-uiux-designer-112\")"
   ],
   "outputs": [],
   "metadata": {}
  },
  {
   "cell_type": "code",
   "execution_count": null,
   "source": [
    "scrape = staff.crawl_all_postings([\"https://staff.am/en/senior-engineer-ii-c\", \"https://staff.am/en/senior-uiux-designer-112\"])"
   ],
   "outputs": [],
   "metadata": {}
  },
  {
   "cell_type": "code",
   "execution_count": 6,
   "source": [
    "arr = [f\"{i}th val\" for i in range(100)]"
   ],
   "outputs": [],
   "metadata": {}
  },
  {
   "cell_type": "code",
   "execution_count": 7,
   "source": [
    "from rich.progress import track\r\n",
    "from rich import progress_bar"
   ],
   "outputs": [],
   "metadata": {}
  },
  {
   "cell_type": "code",
   "execution_count": 8,
   "source": [
    "for i in track(arr):\r\n",
    "    time.sleep(0.0001)"
   ],
   "outputs": [
    {
     "output_type": "stream",
     "name": "stderr",
     "text": [
      "C:\\Users\\User\\.virtualenvs\\JobScraper-iUeExTuY\\lib\\site-packages\\rich\\live.py:227: UserWarning: install \"ipywidgets\" for Jupyter support\n",
      "  warnings.warn('install \"ipywidgets\" for Jupyter support')\n"
     ]
    }
   ],
   "metadata": {}
  },
  {
   "cell_type": "code",
   "execution_count": null,
   "source": [],
   "outputs": [],
   "metadata": {}
  }
 ],
 "metadata": {
  "kernelspec": {
   "name": "python3",
   "display_name": "Python 3.9.7 64-bit ('JobScraper': pipenv)"
  },
  "language_info": {
   "codemirror_mode": {
    "name": "ipython",
    "version": 3
   },
   "file_extension": ".py",
   "mimetype": "text/x-python",
   "name": "python",
   "nbconvert_exporter": "python",
   "pygments_lexer": "ipython3",
   "version": "3.9.7"
  },
  "interpreter": {
   "hash": "f0513b277ba5ddf6e20f5909d0cda4058bc58308612d395d649a61eed9930028"
  }
 },
 "nbformat": 4,
 "nbformat_minor": 2
}