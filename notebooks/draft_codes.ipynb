{
 "cells": [
  {
   "cell_type": "code",
   "execution_count": null,
   "source": [
    "import os, sys\r\n",
    "sys.path.append(os.path.abspath(\"..\"))\r\n",
    "\r\n",
    "import requests\r\n",
    "import scrapy\r\n",
    "import time\r\n",
    "import pandas as pd\r\n",
    "from pprint import pprint\r\n",
    "import re\r\n",
    "import json\r\n",
    "import datetime\r\n",
    "\r\n",
    "from scrapers import staff"
   ],
   "outputs": [],
   "metadata": {}
  },
  {
   "cell_type": "code",
   "execution_count": null,
   "source": [
    "data = staff.main()"
   ],
   "outputs": [],
   "metadata": {}
  },
  {
   "cell_type": "code",
   "execution_count": null,
   "source": [
    "len(data.keys())"
   ],
   "outputs": [],
   "metadata": {}
  },
  {
   "cell_type": "code",
   "execution_count": null,
   "source": [
    "all_default_keys = (\r\n",
    "        \"Company_Title\", \"Company_URL\", \"URL\", \"Total_views\", \"Followers\",\r\n",
    "        \"Active_Jobs\", \"Jobs_History\", \"Job_Views\", \"Job_Title\",\r\n",
    "        \"Application_Deadline\", \"Industry\", \"Employment_term\",\r\n",
    "        \"Job_Category\", \"Job_type\", \"Job_Location\",\r\n",
    "        \"Job_description\", \"Job_responsibilities\",\r\n",
    "        \"Required_qualifications\", \"Required_candidate_level\",\r\n",
    "        \"Salary\", \"Additional_information\",\r\n",
    "        \"Professional_skills\", \"Soft_skills\"\r\n",
    "    )"
   ],
   "outputs": [],
   "metadata": {}
  },
  {
   "cell_type": "code",
   "execution_count": null,
   "source": [
    "new_keys = [k for k in data.keys() if k not in all_default_keys]"
   ],
   "outputs": [],
   "metadata": {}
  },
  {
   "cell_type": "code",
   "execution_count": null,
   "source": [
    "len(new_keys)"
   ],
   "outputs": [],
   "metadata": {}
  },
  {
   "cell_type": "code",
   "execution_count": null,
   "source": [
    "sorted([(k, len(data[k])) for k in new_keys], key=lambda x: x[1])[::-1]"
   ],
   "outputs": [],
   "metadata": {}
  },
  {
   "cell_type": "code",
   "execution_count": null,
   "source": [
    "data[\"Additional_information\"]"
   ],
   "outputs": [],
   "metadata": {}
  },
  {
   "cell_type": "code",
   "execution_count": null,
   "source": [
    "rs = requests.get(\"https://staff.am/en/senior-uiux-designer-112\")\r\n",
    "response = scrapy.http.HtmlResponse(url=rs.url, body=rs.text, encoding=\"utf-8\")"
   ],
   "outputs": [],
   "metadata": {}
  },
  {
   "cell_type": "code",
   "execution_count": null,
   "source": [
    "staff.get_info_from_one_posting(\"https://staff.am/en/senior-uiux-designer-112\")"
   ],
   "outputs": [],
   "metadata": {}
  },
  {
   "cell_type": "code",
   "execution_count": null,
   "source": [
    "scrape = staff.crawl_all_postings([\"https://staff.am/en/senior-engineer-ii-c\", \"https://staff.am/en/senior-uiux-designer-112\"])"
   ],
   "outputs": [],
   "metadata": {}
  },
  {
   "cell_type": "code",
   "execution_count": null,
   "source": [
    "arr = [f\"{i}th val\" for i in range(100)]"
   ],
   "outputs": [],
   "metadata": {}
  },
  {
   "cell_type": "code",
   "execution_count": null,
   "source": [
    "from rich.progress import track\r\n",
    "from rich import progress_bar"
   ],
   "outputs": [],
   "metadata": {}
  },
  {
   "cell_type": "code",
   "execution_count": null,
   "source": [
    "for i in track(arr):\r\n",
    "    time.sleep(0.0001)"
   ],
   "outputs": [],
   "metadata": {}
  },
  {
   "cell_type": "code",
   "execution_count": null,
   "source": [],
   "outputs": [],
   "metadata": {}
  }
 ],
 "metadata": {
  "kernelspec": {
   "name": "python3",
   "display_name": "Python 3.9.7 64-bit ('JobScraper-iUeExTuY': pipenv)"
  },
  "language_info": {
   "codemirror_mode": {
    "name": "ipython",
    "version": 3
   },
   "file_extension": ".py",
   "mimetype": "text/x-python",
   "name": "python",
   "nbconvert_exporter": "python",
   "pygments_lexer": "ipython3",
   "version": "3.9.7"
  },
  "interpreter": {
   "hash": "f0513b277ba5ddf6e20f5909d0cda4058bc58308612d395d649a61eed9930028"
  }
 },
 "nbformat": 4,
 "nbformat_minor": 2
}