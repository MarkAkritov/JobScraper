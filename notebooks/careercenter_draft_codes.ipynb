{
 "cells": [
  {
   "cell_type": "code",
   "execution_count": 10,
   "metadata": {},
   "outputs": [],
   "source": [
    "import requests\n",
    "import scrapy\n",
    "from scrapy.http import HtmlResponse\n",
    "import pandas as pd\n",
    "import time\n",
    "import re\n",
    "from pprint import pprint\n",
    "import json"
   ]
  },
  {
   "cell_type": "code",
   "execution_count": 77,
   "metadata": {},
   "outputs": [],
   "source": [
    "base_url = \"https://www.careercenter.am/en\"\n",
    "main_url = base_url + \"/jobs\""
   ]
  },
  {
   "cell_type": "code",
   "execution_count": 82,
   "metadata": {},
   "outputs": [],
   "source": [
    "def get_absolute_paths_for_all_postings(main_url, delay=3): \n",
    "    \n",
    "    absolute_paths = []\n",
    "    offset = 15\n",
    "\n",
    "    rs = requests.get(main_url + \"?offset={0}\".format(offset))\n",
    "    response = HtmlResponse(url=rs.url, body=rs.text, encoding=\"utf-8\")\n",
    "\n",
    "    while len(response.css(\"div.job-left a::attr(href)\").getall()) > 0:\n",
    "        \n",
    "        absolute_paths.extend(response.css(\"div.job-left a::attr(href)\").getall())\n",
    "        offset += 15\n",
    "        \n",
    "        rs = requests.get(main_url + \"?offset={0}\".format(offset))\n",
    "        response = HtmlResponse(url=rs.url, body=rs.text, encoding=\"utf-8\")\n",
    "        \n",
    "        time.sleep(delay)\n",
    "        \n",
    "    return absolute_paths"
   ]
  },
  {
   "cell_type": "code",
   "execution_count": null,
   "metadata": {},
   "outputs": [],
   "source": [
    "def get_info_from_one_posting(absolute_path):\n",
    "    \n",
    "    rs = requests.get(absolute_path)\n",
    "    response = scrapy.http.HtmlResponse(url=rs.url, body=rs.text, encoding=\"utf-8\")\n",
    "    \n",
    "    extracted_data = {\n",
    "        \"Job_Title\": response.css(\"div.job-right h1::text\").get(),\n",
    "        \"Job_Views\": re.search(\"[0-9]+\", response.css(\"div.job-right span.job-view-count::attr(tooltip)\").get()).group(),\n",
    "        ..\n",
    "    }\n",
    "    \n",
    "    headers = [h.replace(\":\", \"\") for h in response.css(\"table.table tr th::text\").getall()]\n",
    "    table_data = [d.strip().replace(\"\\n\", \" \") for d in response.css(\"table.table tr td::text, td a::text\").getall() if d.strip() != \"\"]\n",
    "    \n",
    "    for i in [\"Company\", \"Location\", \"Duration\", \"Deadline\"]:\n",
    "        if i not in headers:\n",
    "            extracted_data[i] = \"None\"\n",
    "    \n",
    "    for i in range(len(headers)):\n",
    "        if headers[i] == \"Company\":\n",
    "            extracted_data[\"Company_Title\"] = table_data[i]\n",
    "        elif headers[i] == \"Location\":\n",
    "            extracted_data[\"Job_Location\"] = table_data[i]\n",
    "        elif headers[i] == \"Duration\":\n",
    "            extracted_data[\"Job_Duration\"] = table_data[i]\n",
    "        elif headers[i] == \"Deadline\":\n",
    "            extracted_data[\"Application_Deadline\"] = table_data[i]\n",
    "        else:\n",
    "            extracted_data[headers[i]] = table_data[i]\n",
    "            print(\"New field in table data..\")"
   ]
  },
  {
   "cell_type": "code",
   "execution_count": 83,
   "metadata": {
    "collapsed": true
   },
   "outputs": [
    {
     "ename": "SyntaxError",
     "evalue": "unexpected EOF while parsing (<ipython-input-83-4674c17032e9>, line 3)",
     "output_type": "error",
     "traceback": [
      "\u001b[1;36m  File \u001b[1;32m\"<ipython-input-83-4674c17032e9>\"\u001b[1;36m, line \u001b[1;32m3\u001b[0m\n\u001b[1;33m    # TODO\u001b[0m\n\u001b[1;37m          ^\u001b[0m\n\u001b[1;31mSyntaxError\u001b[0m\u001b[1;31m:\u001b[0m unexpected EOF while parsing\n"
     ]
    }
   ],
   "source": [
    "def crawl_all_postings(absolute_paths):\n",
    "    \n",
    "    # TODO"
   ]
  },
  {
   "cell_type": "code",
   "execution_count": null,
   "metadata": {},
   "outputs": [],
   "source": [
    "def crawl_all_companies(absolute_paths_companies):\n",
    "    \n",
    "    # TODO"
   ]
  },
  {
   "cell_type": "code",
   "execution_count": 29,
   "metadata": {},
   "outputs": [],
   "source": [
    "def main():\n",
    "    \n",
    "    return extracted_data"
   ]
  },
  {
   "cell_type": "code",
   "execution_count": 3,
   "metadata": {
    "collapsed": true
   },
   "outputs": [
    {
     "ename": "NameError",
     "evalue": "name 'extracted_data' is not defined",
     "output_type": "error",
     "traceback": [
      "\u001b[1;31m---------------------------------------------------------------------------\u001b[0m",
      "\u001b[1;31mNameError\u001b[0m                                 Traceback (most recent call last)",
      "\u001b[1;32m<ipython-input-3-263240bbee7e>\u001b[0m in \u001b[0;36m<module>\u001b[1;34m\u001b[0m\n\u001b[1;32m----> 1\u001b[1;33m \u001b[0mmain\u001b[0m\u001b[1;33m(\u001b[0m\u001b[1;33m)\u001b[0m\u001b[1;33m\u001b[0m\u001b[1;33m\u001b[0m\u001b[0m\n\u001b[0m",
      "\u001b[1;32m<ipython-input-2-b2a6d429b7d1>\u001b[0m in \u001b[0;36mmain\u001b[1;34m()\u001b[0m\n\u001b[0;32m      1\u001b[0m \u001b[1;32mdef\u001b[0m \u001b[0mmain\u001b[0m\u001b[1;33m(\u001b[0m\u001b[1;33m)\u001b[0m\u001b[1;33m:\u001b[0m\u001b[1;33m\u001b[0m\u001b[1;33m\u001b[0m\u001b[0m\n\u001b[0;32m      2\u001b[0m \u001b[1;33m\u001b[0m\u001b[0m\n\u001b[1;32m----> 3\u001b[1;33m     \u001b[1;32mreturn\u001b[0m \u001b[0mextracted_data\u001b[0m\u001b[1;33m\u001b[0m\u001b[1;33m\u001b[0m\u001b[0m\n\u001b[0m",
      "\u001b[1;31mNameError\u001b[0m: name 'extracted_data' is not defined"
     ]
    }
   ],
   "source": [
    "main()"
   ]
  },
  {
   "cell_type": "code",
   "execution_count": 95,
   "metadata": {},
   "outputs": [],
   "source": [
    "rs = requests.get(\"https://www.careercenter.am/en/jobs/senior-c-engineer-9\")\n",
    "response = HtmlResponse(url=rs.url, body=rs.text, encoding=\"utf-8\")"
   ]
  },
  {
   "cell_type": "code",
   "execution_count": 149,
   "metadata": {},
   "outputs": [
    {
     "data": {
      "text/plain": [
       "['\\n                                                                                                ',\n",
       " '\\n                                                                Full-time\\n                                ',\n",
       " '\\n                                                                                        ',\n",
       " '\\n                            \\n                            Questrade Armenia is looking for a Senior C++ Engineer. The incumbent will participate in the development of multiplatform client/ server applications.\\n                            ',\n",
       " '\\n                                                                                                ',\n",
       " '\\n                                                                - Design, document, and develop client-facing and internal multiplatform client GUI and backend C++ applications;',\n",
       " '- Implement and support complex and reliable applications in a multi-tier environment;',\n",
       " '- Adhere to consistent software development process and develop re-usable, efficient, scalable, maintainable, and reliable code; utilize unit and component testing for higher quality code;',\n",
       " '- Proactively communicate to other teams, including business analysts to understand the requirements and translate them into technical specifications; ',\n",
       " '- Perform architecture analysis of assigned components for both the client-facing and internal server applications; ',\n",
       " '- Mentor junior members of the team;',\n",
       " '- Communicate closely with the team lead on task definition and planning.\\n                                ',\n",
       " '\\n                                                                                                                            ',\n",
       " '\\n                                                                - University degree in Computer Science or a related field;',\n",
       " '- At least 5 years of experience in production software design and development;',\n",
       " '- Expert knowledge and extensive hands-on experience with the following: ',\n",
       " 'a) Advanced C++ with templates and STL;',\n",
       " 'b) QT application development; ',\n",
       " 'c) Multithreading;',\n",
       " 'd) Designing and implementing SQL database oriented applications;',\n",
       " '- Experience with high performance and low-latency customer-facing application is an asset;',\n",
       " '- Linux C++ application development experience would be an asset;',\n",
       " '- Knowledge of Boost libraries is an asset;',\n",
       " '- Good design skills, which includes authoring good design documents before starting coding;',\n",
       " '- Good problem-solving and debugging skills; ',\n",
       " '- Knowledge of the Software Development Life Cycle;',\n",
       " '- Good time-management and organizational abilities that facilitate structured teamwork; ',\n",
       " '- Good written and oral communication skills; ',\n",
       " '- Interest in the financial industry or knowledge of financial trading back office processes would be an asset.\\n                                ',\n",
       " '\\n                                                                                        ',\n",
       " '\\n                                Interested candidates are welcome to send a resume/ CV to: ',\n",
       " ' or ',\n",
       " ' . Please, mention the position title (\"Senior C++ Engineer\") in the subject line of the email. Only shortlisted candidates will be notified.\\n                                ',\n",
       " '\\n                                ',\n",
       " '\\n                                                                                                                    ',\n",
       " '\\n                                All interested candidates\\n                                ',\n",
       " '\\n                                                                                                                                                                                                                                                        ']"
      ]
     },
     "execution_count": 149,
     "metadata": {},
     "output_type": "execute_result"
    }
   ],
   "source": [
    "response.css(\"div.tab-content.job-tab-content div.tab-pane.fade.active.show::text\").getall()"
   ]
  },
  {
   "cell_type": "code",
   "execution_count": null,
   "metadata": {},
   "outputs": [],
   "source": []
  }
 ],
 "metadata": {
  "kernelspec": {
   "display_name": "Python 3",
   "language": "python",
   "name": "python3"
  },
  "language_info": {
   "codemirror_mode": {
    "name": "ipython",
    "version": 3
   },
   "file_extension": ".py",
   "mimetype": "text/x-python",
   "name": "python",
   "nbconvert_exporter": "python",
   "pygments_lexer": "ipython3",
   "version": "3.7.4"
  }
 },
 "nbformat": 4,
 "nbformat_minor": 2
}
